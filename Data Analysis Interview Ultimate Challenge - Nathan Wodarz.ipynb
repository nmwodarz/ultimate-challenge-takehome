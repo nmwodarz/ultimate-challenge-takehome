{
 "cells": [
  {
   "cell_type": "markdown",
   "id": "349ce7fd",
   "metadata": {},
   "source": [
    "# Part 1 ‑ Exploratory data analysis"
   ]
  },
  {
   "cell_type": "markdown",
   "id": "701cb609",
   "metadata": {},
   "source": [
    "<i>The attached </i>logins.json<i> file contains (simulated) timestamps of user logins in a particular\n",
    "geographic location. Aggregate these login counts based on 15-minute\n",
    "time intervals, and\n",
    "visualize and describe the resulting time series of login counts in ways that best characterize the\n",
    "underlying patterns of the demand. Please report/illustrate important features of the demand,\n",
    "such as daily cycles. If there are data quality issues, please report them."
   ]
  },
  {
   "cell_type": "markdown",
   "id": "6c7a6aa9",
   "metadata": {},
   "source": [
    "<b>Summary:</b> Logins show multiple periodic tendencies. There appears to be a weekly seasonality as well as a period approximately 12-hours in length. The weekly peaks occur on the weekends and the daily peaks appear to be around noon and near midnight. There is no obvious issue with data quality."
   ]
  },
  {
   "cell_type": "markdown",
   "id": "92849fbf",
   "metadata": {},
   "source": [
    "### Read and Process Data"
   ]
  },
  {
   "cell_type": "markdown",
   "id": "15dccf07",
   "metadata": {},
   "source": [
    "The file 'logins.json' contains a single field `login_time`. We initially convert these to timestamps. "
   ]
  },
  {
   "cell_type": "code",
   "execution_count": 1,
   "id": "2de62422",
   "metadata": {},
   "outputs": [],
   "source": [
    "import pandas as pd"
   ]
  },
  {
   "cell_type": "code",
   "execution_count": 2,
   "id": "2e455f48",
   "metadata": {},
   "outputs": [],
   "source": [
    "df = pd.read_json('../logins.json', convert_dates=True)"
   ]
  },
  {
   "cell_type": "code",
   "execution_count": 3,
   "id": "57e14b44",
   "metadata": {},
   "outputs": [
    {
     "data": {
      "text/html": [
       "<div>\n",
       "<style scoped>\n",
       "    .dataframe tbody tr th:only-of-type {\n",
       "        vertical-align: middle;\n",
       "    }\n",
       "\n",
       "    .dataframe tbody tr th {\n",
       "        vertical-align: top;\n",
       "    }\n",
       "\n",
       "    .dataframe thead th {\n",
       "        text-align: right;\n",
       "    }\n",
       "</style>\n",
       "<table border=\"1\" class=\"dataframe\">\n",
       "  <thead>\n",
       "    <tr style=\"text-align: right;\">\n",
       "      <th></th>\n",
       "      <th>login_time</th>\n",
       "    </tr>\n",
       "  </thead>\n",
       "  <tbody>\n",
       "    <tr>\n",
       "      <th>0</th>\n",
       "      <td>1970-01-01 20:13:18</td>\n",
       "    </tr>\n",
       "    <tr>\n",
       "      <th>1</th>\n",
       "      <td>1970-01-01 20:16:10</td>\n",
       "    </tr>\n",
       "    <tr>\n",
       "      <th>2</th>\n",
       "      <td>1970-01-01 20:16:37</td>\n",
       "    </tr>\n",
       "    <tr>\n",
       "      <th>3</th>\n",
       "      <td>1970-01-01 20:16:36</td>\n",
       "    </tr>\n",
       "    <tr>\n",
       "      <th>4</th>\n",
       "      <td>1970-01-01 20:26:21</td>\n",
       "    </tr>\n",
       "    <tr>\n",
       "      <th>...</th>\n",
       "      <td>...</td>\n",
       "    </tr>\n",
       "    <tr>\n",
       "      <th>93137</th>\n",
       "      <td>1970-04-13 18:50:19</td>\n",
       "    </tr>\n",
       "    <tr>\n",
       "      <th>93138</th>\n",
       "      <td>1970-04-13 18:43:56</td>\n",
       "    </tr>\n",
       "    <tr>\n",
       "      <th>93139</th>\n",
       "      <td>1970-04-13 18:54:02</td>\n",
       "    </tr>\n",
       "    <tr>\n",
       "      <th>93140</th>\n",
       "      <td>1970-04-13 18:57:38</td>\n",
       "    </tr>\n",
       "    <tr>\n",
       "      <th>93141</th>\n",
       "      <td>1970-04-13 18:54:23</td>\n",
       "    </tr>\n",
       "  </tbody>\n",
       "</table>\n",
       "<p>93142 rows × 1 columns</p>\n",
       "</div>"
      ],
      "text/plain": [
       "               login_time\n",
       "0     1970-01-01 20:13:18\n",
       "1     1970-01-01 20:16:10\n",
       "2     1970-01-01 20:16:37\n",
       "3     1970-01-01 20:16:36\n",
       "4     1970-01-01 20:26:21\n",
       "...                   ...\n",
       "93137 1970-04-13 18:50:19\n",
       "93138 1970-04-13 18:43:56\n",
       "93139 1970-04-13 18:54:02\n",
       "93140 1970-04-13 18:57:38\n",
       "93141 1970-04-13 18:54:23\n",
       "\n",
       "[93142 rows x 1 columns]"
      ]
     },
     "execution_count": 3,
     "metadata": {},
     "output_type": "execute_result"
    }
   ],
   "source": [
    "df"
   ]
  },
  {
   "cell_type": "code",
   "execution_count": 4,
   "id": "998e6482",
   "metadata": {},
   "outputs": [
    {
     "name": "stdout",
     "output_type": "stream",
     "text": [
      "<class 'pandas.core.frame.DataFrame'>\n",
      "RangeIndex: 93142 entries, 0 to 93141\n",
      "Data columns (total 1 columns):\n",
      " #   Column      Non-Null Count  Dtype         \n",
      "---  ------      --------------  -----         \n",
      " 0   login_time  93142 non-null  datetime64[ns]\n",
      "dtypes: datetime64[ns](1)\n",
      "memory usage: 727.8 KB\n"
     ]
    }
   ],
   "source": [
    "df.info()"
   ]
  },
  {
   "cell_type": "markdown",
   "id": "aab5d8a5",
   "metadata": {},
   "source": [
    "The goal is to count logins by 15 minute intervals. To do this, we'll initially convert `df` into a time series. The index will be login times and there will be a single feature `logins`. This will count the number of logins during a period, but for the initial time series conversion, we'll set `logins` equal to 1 in each row."
   ]
  },
  {
   "cell_type": "code",
   "execution_count": 5,
   "id": "353da52d",
   "metadata": {},
   "outputs": [],
   "source": [
    "df = pd.DataFrame(data={'logins': 1}, index=df['login_time'])"
   ]
  },
  {
   "cell_type": "code",
   "execution_count": 6,
   "id": "f0aad2df",
   "metadata": {},
   "outputs": [
    {
     "data": {
      "text/html": [
       "<div>\n",
       "<style scoped>\n",
       "    .dataframe tbody tr th:only-of-type {\n",
       "        vertical-align: middle;\n",
       "    }\n",
       "\n",
       "    .dataframe tbody tr th {\n",
       "        vertical-align: top;\n",
       "    }\n",
       "\n",
       "    .dataframe thead th {\n",
       "        text-align: right;\n",
       "    }\n",
       "</style>\n",
       "<table border=\"1\" class=\"dataframe\">\n",
       "  <thead>\n",
       "    <tr style=\"text-align: right;\">\n",
       "      <th></th>\n",
       "      <th>logins</th>\n",
       "    </tr>\n",
       "    <tr>\n",
       "      <th>login_time</th>\n",
       "      <th></th>\n",
       "    </tr>\n",
       "  </thead>\n",
       "  <tbody>\n",
       "    <tr>\n",
       "      <th>1970-01-01 20:13:18</th>\n",
       "      <td>1</td>\n",
       "    </tr>\n",
       "    <tr>\n",
       "      <th>1970-01-01 20:16:10</th>\n",
       "      <td>1</td>\n",
       "    </tr>\n",
       "    <tr>\n",
       "      <th>1970-01-01 20:16:37</th>\n",
       "      <td>1</td>\n",
       "    </tr>\n",
       "    <tr>\n",
       "      <th>1970-01-01 20:16:36</th>\n",
       "      <td>1</td>\n",
       "    </tr>\n",
       "    <tr>\n",
       "      <th>1970-01-01 20:26:21</th>\n",
       "      <td>1</td>\n",
       "    </tr>\n",
       "    <tr>\n",
       "      <th>...</th>\n",
       "      <td>...</td>\n",
       "    </tr>\n",
       "    <tr>\n",
       "      <th>1970-04-13 18:50:19</th>\n",
       "      <td>1</td>\n",
       "    </tr>\n",
       "    <tr>\n",
       "      <th>1970-04-13 18:43:56</th>\n",
       "      <td>1</td>\n",
       "    </tr>\n",
       "    <tr>\n",
       "      <th>1970-04-13 18:54:02</th>\n",
       "      <td>1</td>\n",
       "    </tr>\n",
       "    <tr>\n",
       "      <th>1970-04-13 18:57:38</th>\n",
       "      <td>1</td>\n",
       "    </tr>\n",
       "    <tr>\n",
       "      <th>1970-04-13 18:54:23</th>\n",
       "      <td>1</td>\n",
       "    </tr>\n",
       "  </tbody>\n",
       "</table>\n",
       "<p>93142 rows × 1 columns</p>\n",
       "</div>"
      ],
      "text/plain": [
       "                     logins\n",
       "login_time                 \n",
       "1970-01-01 20:13:18       1\n",
       "1970-01-01 20:16:10       1\n",
       "1970-01-01 20:16:37       1\n",
       "1970-01-01 20:16:36       1\n",
       "1970-01-01 20:26:21       1\n",
       "...                     ...\n",
       "1970-04-13 18:50:19       1\n",
       "1970-04-13 18:43:56       1\n",
       "1970-04-13 18:54:02       1\n",
       "1970-04-13 18:57:38       1\n",
       "1970-04-13 18:54:23       1\n",
       "\n",
       "[93142 rows x 1 columns]"
      ]
     },
     "execution_count": 6,
     "metadata": {},
     "output_type": "execute_result"
    }
   ],
   "source": [
    "df"
   ]
  },
  {
   "cell_type": "markdown",
   "id": "768102f8",
   "metadata": {},
   "source": [
    "Now that we have the time series set up, we resample in 15 minute intervals, summing the logins over these intervals."
   ]
  },
  {
   "cell_type": "code",
   "execution_count": 7,
   "id": "a85332ac",
   "metadata": {},
   "outputs": [],
   "source": [
    "df = df.resample('15T').sum()"
   ]
  },
  {
   "cell_type": "code",
   "execution_count": 8,
   "id": "6b2368d5",
   "metadata": {},
   "outputs": [
    {
     "data": {
      "text/html": [
       "<div>\n",
       "<style scoped>\n",
       "    .dataframe tbody tr th:only-of-type {\n",
       "        vertical-align: middle;\n",
       "    }\n",
       "\n",
       "    .dataframe tbody tr th {\n",
       "        vertical-align: top;\n",
       "    }\n",
       "\n",
       "    .dataframe thead th {\n",
       "        text-align: right;\n",
       "    }\n",
       "</style>\n",
       "<table border=\"1\" class=\"dataframe\">\n",
       "  <thead>\n",
       "    <tr style=\"text-align: right;\">\n",
       "      <th></th>\n",
       "      <th>logins</th>\n",
       "    </tr>\n",
       "    <tr>\n",
       "      <th>login_time</th>\n",
       "      <th></th>\n",
       "    </tr>\n",
       "  </thead>\n",
       "  <tbody>\n",
       "    <tr>\n",
       "      <th>1970-01-01 20:00:00</th>\n",
       "      <td>2</td>\n",
       "    </tr>\n",
       "    <tr>\n",
       "      <th>1970-01-01 20:15:00</th>\n",
       "      <td>6</td>\n",
       "    </tr>\n",
       "    <tr>\n",
       "      <th>1970-01-01 20:30:00</th>\n",
       "      <td>9</td>\n",
       "    </tr>\n",
       "    <tr>\n",
       "      <th>1970-01-01 20:45:00</th>\n",
       "      <td>7</td>\n",
       "    </tr>\n",
       "    <tr>\n",
       "      <th>1970-01-01 21:00:00</th>\n",
       "      <td>1</td>\n",
       "    </tr>\n",
       "    <tr>\n",
       "      <th>...</th>\n",
       "      <td>...</td>\n",
       "    </tr>\n",
       "    <tr>\n",
       "      <th>1970-04-13 17:45:00</th>\n",
       "      <td>5</td>\n",
       "    </tr>\n",
       "    <tr>\n",
       "      <th>1970-04-13 18:00:00</th>\n",
       "      <td>5</td>\n",
       "    </tr>\n",
       "    <tr>\n",
       "      <th>1970-04-13 18:15:00</th>\n",
       "      <td>2</td>\n",
       "    </tr>\n",
       "    <tr>\n",
       "      <th>1970-04-13 18:30:00</th>\n",
       "      <td>7</td>\n",
       "    </tr>\n",
       "    <tr>\n",
       "      <th>1970-04-13 18:45:00</th>\n",
       "      <td>6</td>\n",
       "    </tr>\n",
       "  </tbody>\n",
       "</table>\n",
       "<p>9788 rows × 1 columns</p>\n",
       "</div>"
      ],
      "text/plain": [
       "                     logins\n",
       "login_time                 \n",
       "1970-01-01 20:00:00       2\n",
       "1970-01-01 20:15:00       6\n",
       "1970-01-01 20:30:00       9\n",
       "1970-01-01 20:45:00       7\n",
       "1970-01-01 21:00:00       1\n",
       "...                     ...\n",
       "1970-04-13 17:45:00       5\n",
       "1970-04-13 18:00:00       5\n",
       "1970-04-13 18:15:00       2\n",
       "1970-04-13 18:30:00       7\n",
       "1970-04-13 18:45:00       6\n",
       "\n",
       "[9788 rows x 1 columns]"
      ]
     },
     "execution_count": 8,
     "metadata": {},
     "output_type": "execute_result"
    }
   ],
   "source": [
    "df"
   ]
  },
  {
   "cell_type": "code",
   "execution_count": 9,
   "id": "c2940a44",
   "metadata": {},
   "outputs": [
    {
     "name": "stdout",
     "output_type": "stream",
     "text": [
      "<class 'pandas.core.frame.DataFrame'>\n",
      "DatetimeIndex: 9788 entries, 1970-01-01 20:00:00 to 1970-04-13 18:45:00\n",
      "Freq: 15T\n",
      "Data columns (total 1 columns):\n",
      " #   Column  Non-Null Count  Dtype\n",
      "---  ------  --------------  -----\n",
      " 0   logins  9788 non-null   int64\n",
      "dtypes: int64(1)\n",
      "memory usage: 152.9 KB\n"
     ]
    }
   ],
   "source": [
    "df.info()"
   ]
  },
  {
   "cell_type": "markdown",
   "id": "f9007273",
   "metadata": {},
   "source": [
    "### Data Analysis"
   ]
  },
  {
   "cell_type": "markdown",
   "id": "4d69ee7e",
   "metadata": {},
   "source": [
    "There are 9788 intervals in the data, with logins per interval ranging from a low of 0 to a maximum of 73. The median number of logins is 7 and the interquartile range is 10 (ranging from 3 to 13)."
   ]
  },
  {
   "cell_type": "code",
   "execution_count": 10,
   "id": "16112f9a",
   "metadata": {},
   "outputs": [
    {
     "data": {
      "text/html": [
       "<div>\n",
       "<style scoped>\n",
       "    .dataframe tbody tr th:only-of-type {\n",
       "        vertical-align: middle;\n",
       "    }\n",
       "\n",
       "    .dataframe tbody tr th {\n",
       "        vertical-align: top;\n",
       "    }\n",
       "\n",
       "    .dataframe thead th {\n",
       "        text-align: right;\n",
       "    }\n",
       "</style>\n",
       "<table border=\"1\" class=\"dataframe\">\n",
       "  <thead>\n",
       "    <tr style=\"text-align: right;\">\n",
       "      <th></th>\n",
       "      <th>logins</th>\n",
       "    </tr>\n",
       "  </thead>\n",
       "  <tbody>\n",
       "    <tr>\n",
       "      <th>count</th>\n",
       "      <td>9788.000000</td>\n",
       "    </tr>\n",
       "    <tr>\n",
       "      <th>mean</th>\n",
       "      <td>9.515938</td>\n",
       "    </tr>\n",
       "    <tr>\n",
       "      <th>std</th>\n",
       "      <td>8.328818</td>\n",
       "    </tr>\n",
       "    <tr>\n",
       "      <th>min</th>\n",
       "      <td>0.000000</td>\n",
       "    </tr>\n",
       "    <tr>\n",
       "      <th>25%</th>\n",
       "      <td>3.000000</td>\n",
       "    </tr>\n",
       "    <tr>\n",
       "      <th>50%</th>\n",
       "      <td>7.000000</td>\n",
       "    </tr>\n",
       "    <tr>\n",
       "      <th>75%</th>\n",
       "      <td>13.000000</td>\n",
       "    </tr>\n",
       "    <tr>\n",
       "      <th>max</th>\n",
       "      <td>73.000000</td>\n",
       "    </tr>\n",
       "  </tbody>\n",
       "</table>\n",
       "</div>"
      ],
      "text/plain": [
       "            logins\n",
       "count  9788.000000\n",
       "mean      9.515938\n",
       "std       8.328818\n",
       "min       0.000000\n",
       "25%       3.000000\n",
       "50%       7.000000\n",
       "75%      13.000000\n",
       "max      73.000000"
      ]
     },
     "execution_count": 10,
     "metadata": {},
     "output_type": "execute_result"
    }
   ],
   "source": [
    "df.describe()"
   ]
  },
  {
   "cell_type": "markdown",
   "id": "53efd4d2",
   "metadata": {},
   "source": [
    "Plotting the logins for each interval over time, some periodicity becomes evident. The plot is difficult to read because of the horizontal time interval, however it looks like there is a weekly seasonality coupled with a shorter-term period. This short-term seasonality could be daily."
   ]
  },
  {
   "cell_type": "code",
   "execution_count": 11,
   "id": "ab2a489e",
   "metadata": {},
   "outputs": [],
   "source": [
    "import matplotlib.pyplot as plt"
   ]
  },
  {
   "cell_type": "code",
   "execution_count": 12,
   "id": "1a99e325",
   "metadata": {},
   "outputs": [
    {
     "data": {
      "image/png": "[encoded data removed]",
      "text/plain": [
       "<Figure size 1296x576 with 1 Axes>"
      ]
     },
     "metadata": {
      "needs_background": "light"
     },
     "output_type": "display_data"
    }
   ],
   "source": [
    "df.plot(figsize=(18,8), xlabel='Login time', ylabel='Logins per 15min', title='Logins over time');"
   ]
  },
  {
   "cell_type": "markdown",
   "id": "67ec2768",
   "metadata": {},
   "source": [
    "Replotting for a single week makes it obvious that there we were correct about a short-term periodicity. It appears that it may be about 12 hours in length rather than daily."
   ]
  },
  {
   "cell_type": "code",
   "execution_count": 13,
   "id": "3f9acd66",
   "metadata": {},
   "outputs": [
    {
     "data": {
      "image/png": "[encoded data removed]",
      "text/plain": [
       "<Figure size 1296x576 with 1 Axes>"
      ]
     },
     "metadata": {
      "needs_background": "light"
     },
     "output_type": "display_data"
    }
   ],
   "source": [
    "# Plot one week only.\n",
    "df['1970-02-01':'1970-02-07'].plot(figsize=(18,8), xlabel='Login time', \n",
    "                                   ylabel='Logins per 15min', title='Logins over time');"
   ]
  },
  {
   "cell_type": "markdown",
   "id": "2f0ef77b",
   "metadata": {},
   "source": [
    "Similarly, resampling shows that there is a longer-term periodicity, which appears to be compatible with a weekly period."
   ]
  },
  {
   "cell_type": "code",
   "execution_count": 14,
   "id": "590e50ce",
   "metadata": {},
   "outputs": [
    {
     "data": {
      "image/png": "[encoded data removed]",
      "text/plain": [
       "<Figure size 1296x576 with 1 Axes>"
      ]
     },
     "metadata": {
      "needs_background": "light"
     },
     "output_type": "display_data"
    }
   ],
   "source": [
    "df.resample('1D').sum().plot(figsize=(18,8), xlabel='Login time', ylabel='Logins per 15min', title='Logins over time');"
   ]
  },
  {
   "cell_type": "markdown",
   "id": "aeac1e47",
   "metadata": {},
   "source": [
    "Plotting the auto-correlation function makes it clear that there are periodicities around 12 and 24 hours (48 and 96 periods)."
   ]
  },
  {
   "cell_type": "code",
   "execution_count": 15,
   "id": "996c14c4",
   "metadata": {},
   "outputs": [],
   "source": [
    "from statsmodels.graphics.tsaplots import plot_acf"
   ]
  },
  {
   "cell_type": "code",
   "execution_count": 16,
   "id": "09af7c63",
   "metadata": {},
   "outputs": [
    {
     "data": {
      "image/png": "[encoded data removed]",
      "text/plain": [
       "<Figure size 1296x576 with 1 Axes>"
      ]
     },
     "metadata": {
      "needs_background": "light"
     },
     "output_type": "display_data"
    }
   ],
   "source": [
    "fig = plt.figure(figsize=(18,8));\n",
    "ax = plt.axes()\n",
    "plot_acf(df, ax=ax, fft=True, lags=200);"
   ]
  },
  {
   "cell_type": "markdown",
   "id": "5b46e0ee",
   "metadata": {},
   "source": [
    "Resampling to one day intervals and then computing the auto-correlation function also verifies that weekly periodicity exists."
   ]
  },
  {
   "cell_type": "code",
   "execution_count": 17,
   "id": "c8f60153",
   "metadata": {},
   "outputs": [
    {
     "data": {
      "image/png": "[encoded data removed]",
      "text/plain": [
       "<Figure size 1296x576 with 1 Axes>"
      ]
     },
     "metadata": {
      "needs_background": "light"
     },
     "output_type": "display_data"
    }
   ],
   "source": [
    "fig = plt.figure(figsize=(18,8));\n",
    "ax = plt.axes()\n",
    "plot_acf(df.resample('1D').sum(), ax=ax, fft=True);"
   ]
  },
  {
   "cell_type": "markdown",
   "id": "6a0ce35c",
   "metadata": {},
   "source": [
    "Determine the days of week with the greatest number of logins."
   ]
  },
  {
   "cell_type": "code",
   "execution_count": 18,
   "id": "42485d38",
   "metadata": {},
   "outputs": [],
   "source": [
    "daily_df = df.resample('1D').sum()\n",
    "daily_df['day_of_week'] = daily_df.index.day_name()"
   ]
  },
  {
   "cell_type": "code",
   "execution_count": 19,
   "id": "4268eeb1",
   "metadata": {},
   "outputs": [
    {
     "data": {
      "text/html": [
       "<div>\n",
       "<style scoped>\n",
       "    .dataframe tbody tr th:only-of-type {\n",
       "        vertical-align: middle;\n",
       "    }\n",
       "\n",
       "    .dataframe tbody tr th {\n",
       "        vertical-align: top;\n",
       "    }\n",
       "\n",
       "    .dataframe thead th {\n",
       "        text-align: right;\n",
       "    }\n",
       "</style>\n",
       "<table border=\"1\" class=\"dataframe\">\n",
       "  <thead>\n",
       "    <tr style=\"text-align: right;\">\n",
       "      <th></th>\n",
       "      <th>logins</th>\n",
       "      <th>day_of_week</th>\n",
       "    </tr>\n",
       "    <tr>\n",
       "      <th>login_time</th>\n",
       "      <th></th>\n",
       "      <th></th>\n",
       "    </tr>\n",
       "  </thead>\n",
       "  <tbody>\n",
       "    <tr>\n",
       "      <th>1970-01-01</th>\n",
       "      <td>112</td>\n",
       "      <td>Thursday</td>\n",
       "    </tr>\n",
       "    <tr>\n",
       "      <th>1970-01-02</th>\n",
       "      <td>681</td>\n",
       "      <td>Friday</td>\n",
       "    </tr>\n",
       "    <tr>\n",
       "      <th>1970-01-03</th>\n",
       "      <td>793</td>\n",
       "      <td>Saturday</td>\n",
       "    </tr>\n",
       "    <tr>\n",
       "      <th>1970-01-04</th>\n",
       "      <td>788</td>\n",
       "      <td>Sunday</td>\n",
       "    </tr>\n",
       "    <tr>\n",
       "      <th>1970-01-05</th>\n",
       "      <td>459</td>\n",
       "      <td>Monday</td>\n",
       "    </tr>\n",
       "    <tr>\n",
       "      <th>...</th>\n",
       "      <td>...</td>\n",
       "      <td>...</td>\n",
       "    </tr>\n",
       "    <tr>\n",
       "      <th>1970-04-09</th>\n",
       "      <td>818</td>\n",
       "      <td>Thursday</td>\n",
       "    </tr>\n",
       "    <tr>\n",
       "      <th>1970-04-10</th>\n",
       "      <td>1009</td>\n",
       "      <td>Friday</td>\n",
       "    </tr>\n",
       "    <tr>\n",
       "      <th>1970-04-11</th>\n",
       "      <td>1352</td>\n",
       "      <td>Saturday</td>\n",
       "    </tr>\n",
       "    <tr>\n",
       "      <th>1970-04-12</th>\n",
       "      <td>1409</td>\n",
       "      <td>Sunday</td>\n",
       "    </tr>\n",
       "    <tr>\n",
       "      <th>1970-04-13</th>\n",
       "      <td>395</td>\n",
       "      <td>Monday</td>\n",
       "    </tr>\n",
       "  </tbody>\n",
       "</table>\n",
       "<p>103 rows × 2 columns</p>\n",
       "</div>"
      ],
      "text/plain": [
       "            logins day_of_week\n",
       "login_time                    \n",
       "1970-01-01     112    Thursday\n",
       "1970-01-02     681      Friday\n",
       "1970-01-03     793    Saturday\n",
       "1970-01-04     788      Sunday\n",
       "1970-01-05     459      Monday\n",
       "...            ...         ...\n",
       "1970-04-09     818    Thursday\n",
       "1970-04-10    1009      Friday\n",
       "1970-04-11    1352    Saturday\n",
       "1970-04-12    1409      Sunday\n",
       "1970-04-13     395      Monday\n",
       "\n",
       "[103 rows x 2 columns]"
      ]
     },
     "execution_count": 19,
     "metadata": {},
     "output_type": "execute_result"
    }
   ],
   "source": [
    "daily_df"
   ]
  },
  {
   "cell_type": "markdown",
   "id": "15869f02",
   "metadata": {},
   "source": [
    "There is a clear peak on the weekends, with Saturday and Sunday leading and Friday an obvious third."
   ]
  },
  {
   "cell_type": "code",
   "execution_count": 20,
   "id": "9c674282",
   "metadata": {},
   "outputs": [
    {
     "data": {
      "text/html": [
       "<div>\n",
       "<style scoped>\n",
       "    .dataframe tbody tr th:only-of-type {\n",
       "        vertical-align: middle;\n",
       "    }\n",
       "\n",
       "    .dataframe tbody tr th {\n",
       "        vertical-align: top;\n",
       "    }\n",
       "\n",
       "    .dataframe thead th {\n",
       "        text-align: right;\n",
       "    }\n",
       "</style>\n",
       "<table border=\"1\" class=\"dataframe\">\n",
       "  <thead>\n",
       "    <tr style=\"text-align: right;\">\n",
       "      <th></th>\n",
       "      <th>logins</th>\n",
       "    </tr>\n",
       "    <tr>\n",
       "      <th>day_of_week</th>\n",
       "      <th></th>\n",
       "    </tr>\n",
       "  </thead>\n",
       "  <tbody>\n",
       "    <tr>\n",
       "      <th>Friday</th>\n",
       "      <td>1013.866667</td>\n",
       "    </tr>\n",
       "    <tr>\n",
       "      <th>Monday</th>\n",
       "      <td>588.200000</td>\n",
       "    </tr>\n",
       "    <tr>\n",
       "      <th>Saturday</th>\n",
       "      <td>1291.800000</td>\n",
       "    </tr>\n",
       "    <tr>\n",
       "      <th>Sunday</th>\n",
       "      <td>1211.133333</td>\n",
       "    </tr>\n",
       "    <tr>\n",
       "      <th>Thursday</th>\n",
       "      <td>797.333333</td>\n",
       "    </tr>\n",
       "    <tr>\n",
       "      <th>Tuesday</th>\n",
       "      <td>662.000000</td>\n",
       "    </tr>\n",
       "    <tr>\n",
       "      <th>Wednesday</th>\n",
       "      <td>738.500000</td>\n",
       "    </tr>\n",
       "  </tbody>\n",
       "</table>\n",
       "</div>"
      ],
      "text/plain": [
       "                  logins\n",
       "day_of_week             \n",
       "Friday       1013.866667\n",
       "Monday        588.200000\n",
       "Saturday     1291.800000\n",
       "Sunday       1211.133333\n",
       "Thursday      797.333333\n",
       "Tuesday       662.000000\n",
       "Wednesday     738.500000"
      ]
     },
     "execution_count": 20,
     "metadata": {},
     "output_type": "execute_result"
    }
   ],
   "source": [
    "daily_df\n",
    "daily_df.groupby('day_of_week').mean()"
   ]
  },
  {
   "cell_type": "markdown",
   "id": "faf71456",
   "metadata": {},
   "source": [
    "Additionally, determine the times of day seeing the greatest number of logins."
   ]
  },
  {
   "cell_type": "code",
   "execution_count": 21,
   "id": "057333b3",
   "metadata": {},
   "outputs": [],
   "source": [
    "df['time_of_day'] = df.index.time"
   ]
  },
  {
   "cell_type": "code",
   "execution_count": 22,
   "id": "8e850aed",
   "metadata": {},
   "outputs": [
    {
     "data": {
      "text/html": [
       "<div>\n",
       "<style scoped>\n",
       "    .dataframe tbody tr th:only-of-type {\n",
       "        vertical-align: middle;\n",
       "    }\n",
       "\n",
       "    .dataframe tbody tr th {\n",
       "        vertical-align: top;\n",
       "    }\n",
       "\n",
       "    .dataframe thead th {\n",
       "        text-align: right;\n",
       "    }\n",
       "</style>\n",
       "<table border=\"1\" class=\"dataframe\">\n",
       "  <thead>\n",
       "    <tr style=\"text-align: right;\">\n",
       "      <th></th>\n",
       "      <th>logins</th>\n",
       "    </tr>\n",
       "    <tr>\n",
       "      <th>time_of_day</th>\n",
       "      <th></th>\n",
       "    </tr>\n",
       "  </thead>\n",
       "  <tbody>\n",
       "    <tr>\n",
       "      <th>07:45:00</th>\n",
       "      <td>1.715686</td>\n",
       "    </tr>\n",
       "    <tr>\n",
       "      <th>08:15:00</th>\n",
       "      <td>1.754902</td>\n",
       "    </tr>\n",
       "    <tr>\n",
       "      <th>08:00:00</th>\n",
       "      <td>1.872549</td>\n",
       "    </tr>\n",
       "    <tr>\n",
       "      <th>07:30:00</th>\n",
       "      <td>1.882353</td>\n",
       "    </tr>\n",
       "    <tr>\n",
       "      <th>06:45:00</th>\n",
       "      <td>2.098039</td>\n",
       "    </tr>\n",
       "    <tr>\n",
       "      <th>...</th>\n",
       "      <td>...</td>\n",
       "    </tr>\n",
       "    <tr>\n",
       "      <th>22:00:00</th>\n",
       "      <td>16.019608</td>\n",
       "    </tr>\n",
       "    <tr>\n",
       "      <th>22:45:00</th>\n",
       "      <td>16.049020</td>\n",
       "    </tr>\n",
       "    <tr>\n",
       "      <th>22:15:00</th>\n",
       "      <td>16.196078</td>\n",
       "    </tr>\n",
       "    <tr>\n",
       "      <th>01:30:00</th>\n",
       "      <td>16.401961</td>\n",
       "    </tr>\n",
       "    <tr>\n",
       "      <th>22:30:00</th>\n",
       "      <td>16.509804</td>\n",
       "    </tr>\n",
       "  </tbody>\n",
       "</table>\n",
       "<p>96 rows × 1 columns</p>\n",
       "</div>"
      ],
      "text/plain": [
       "                logins\n",
       "time_of_day           \n",
       "07:45:00      1.715686\n",
       "08:15:00      1.754902\n",
       "08:00:00      1.872549\n",
       "07:30:00      1.882353\n",
       "06:45:00      2.098039\n",
       "...                ...\n",
       "22:00:00     16.019608\n",
       "22:45:00     16.049020\n",
       "22:15:00     16.196078\n",
       "01:30:00     16.401961\n",
       "22:30:00     16.509804\n",
       "\n",
       "[96 rows x 1 columns]"
      ]
     },
     "execution_count": 22,
     "metadata": {},
     "output_type": "execute_result"
    }
   ],
   "source": [
    "df.groupby('time_of_day').mean().sort_values(by='logins')"
   ]
  },
  {
   "cell_type": "markdown",
   "id": "6c1d1c20",
   "metadata": {},
   "source": [
    "There are clear peaks late in the evening (within a couple hours of midnight) and right around noon. There is a sharp drop in the morning together with a lesser drop in the afternoon."
   ]
  },
  {
   "cell_type": "code",
   "execution_count": 23,
   "id": "b930bcbe",
   "metadata": {},
   "outputs": [
    {
     "data": {
      "image/png": "[encoded data removed]",
      "text/plain": [
       "<Figure size 1296x576 with 1 Axes>"
      ]
     },
     "metadata": {
      "needs_background": "light"
     },
     "output_type": "display_data"
    }
   ],
   "source": [
    "df.groupby('time_of_day').mean().plot(figsize=(18,8), title='Mean Logins by Time of Day', xlabel='Time of Day',\n",
    "                                     ylabel='Mean Logins');"
   ]
  },
  {
   "cell_type": "markdown",
   "id": "fc8bdffd",
   "metadata": {},
   "source": [
    "# Part 2 ‑ Experiment and metrics design"
   ]
  },
  {
   "cell_type": "markdown",
   "id": "ce811599",
   "metadata": {},
   "source": [
    "<i>The neighboring cities of Gotham and Metropolis have complementary circadian rhythms: on\n",
    "weekdays, Ultimate Gotham is most active at night, and Ultimate Metropolis is most active\n",
    "during the day. On weekends, there is reasonable activity in both cities.\n",
    "\n",
    "However, a toll bridge, with a two way\n",
    "toll, between the two cities causes driver partners to tend\n",
    "to be exclusive to each city. The Ultimate managers of city operations for the two cities have\n",
    "proposed an experiment to encourage driver partners to be available in both cities, by\n",
    "reimbursing all toll costs.\n",
    "\n",
    "1. What would you choose as the key measure of success of this experiment in\n",
    "encouraging driver partners to serve both cities, and why would you choose this metric?</i>"
   ]
  },
  {
   "cell_type": "markdown",
   "id": "8b4d3fc6",
   "metadata": {},
   "source": [
    "<b>Answer:</b> We would hope to see an increase in the rate of driver partners serving both cities. This would indicate that proportionately more driver partners are willing to be available in both cities. This would be a better indicator than a strict count of driver partners serving both cities, as an underlying change in the total number of driving partners could lead to incorrect conclusions. In particular, an increase in the total number of drivers will likely naturally lead to an increase in drivers serving both cities, even if the proportion stays the same or equal. Likewise, if we were to see a decline in the total number of drivers, the number of drivers serving both cities would likely drop even if the proportion of drivers available in both stayed the same or increased."
   ]
  },
  {
   "cell_type": "markdown",
   "id": "3445a1e0",
   "metadata": {},
   "source": [
    "<i>2. Describe a practical experiment you would design to compare the effectiveness of the\n",
    "proposed change in relation to the key measure of success. Please provide details on:</i>\n",
    "    \n",
    "<i>a. how you will implement the experiment</i>\n",
    "    \n",
    "<i>b. what statistical test(s) you will conduct to verify the significance of the observation</i>\n",
    "    \n",
    "<i>c. how you would interpret the results and provide recommendations to the city operations team along with any caveats.</i>"
   ]
  },
  {
   "cell_type": "markdown",
   "id": "5a6a84a8",
   "metadata": {},
   "source": [
    "<b>Answer:</b> <b>a.</b> Since there are multiple seasonalities in the ride data (daily and weekly), we would wish to compare the rate of drivers serving both cities over similar lengths of time covering the same number of cycles. The experiment would then set out a multi-week period to determine control counts. After the change is made, the counts should be repeated over a period of identical length. Both the control and experimental periods should begin (and end) at the same times on the same days of the week.\n",
    "\n",
    "Since lack of independence in the experiment is likely to be an issue, it would be best to see if we can observe changes in the behavior of individual drivers. A number $2N$ of drivers should be chosen before the control period. Half of these drivers should be primarily active during the day, half at night. The idea is to try to roughly equalize participants from both cities without concerning ourselves with the overlap between those drivers who already serve both cities.\n",
    "\n",
    "During the control period, these drivers should be tracked to see if they serve one city or both. The same will be repeated during the experimental period."
   ]
  },
  {
   "cell_type": "markdown",
   "id": "ef4ab04a",
   "metadata": {},
   "source": [
    "<b>b.</b> Due to lack of independence between the groups, a two-proportion $z$-test may not be valid. Instead, we can substitute a non-parametric test such as [McNemar's Test](https://en.wikipedia.org/wiki/McNemar%27s_test) to determine if there is a statistically significant different in the rate of drivers serving both cities. Tests should be done on all drivers and then potentially repeated while omitting drivers who didn't drive in one or both of the periods.\n",
    "\n",
    "Bootstrapping can be used to estimate confidence intervals for the change in proportions."
   ]
  },
  {
   "cell_type": "markdown",
   "id": "f2ee8ed6",
   "metadata": {},
   "source": [
    "<b>c.</b> The operations team should be given the effect size together with a confidence interval for the size. If the change is not statistically significant, the team should be informed that the results of the experiment are indistinguishable from chance.\n",
    "\n",
    "Additionally, the proportions can be interpreted in monetary terms. The cost to the company of the program can be determined by using the proportion of drivers who served both cities in the experimental period. The change in revenue can be calculated from the change in proportions between the control and experimental periods. "
   ]
  },
  {
   "cell_type": "markdown",
   "id": "691942f2",
   "metadata": {},
   "source": [
    "# Part 3 ‑ Predictive modeling"
   ]
  },
  {
   "cell_type": "markdown",
   "id": "aca6e523",
   "metadata": {},
   "source": [
    "<i>Ultimate is interested in predicting rider retention. To help explore this question, we have provided a sample dataset of a cohort of users who signed up for an Ultimate account in January 2014. The data was pulled several months later; we consider a user retained if they were “active” (i.e. took a trip) in the preceding 30 days.\n",
    "\n",
    "We would like you to use this data set to help understand what factors are the best predictors for retention, and offer suggestions to operationalize those insights to help Ultimate.\n",
    "\n",
    "The data is in the attached file </i>ultimate_data_challenge.json<i>. See below for a detailed description of the dataset. Please include any code you wrote for the analysis and delete the dataset when you have finished with the challenge.\n",
    "\n",
    "1. Perform any cleaning, exploratory analysis, and/or visualizations to use the provided data for this analysis (a few sentences/plots describing your approach will suffice). What fraction of the observed users were retained?\n",
    "\n",
    "2. Build a predictive model to help Ultimate determine whether or not a user will be active in their 6th month on the system. Discuss why you chose your approach, what alternatives you considered, and any concerns you have. How valid is your model? Include any key indicators of model performance.\n",
    "\n",
    "3. Briefly discuss how Ultimate might leverage the insights gained from the model to improve its longterm rider retention (again, a few sentences will suffice)."
   ]
  },
  {
   "cell_type": "markdown",
   "id": "dde8323d",
   "metadata": {},
   "source": [
    "<b>Summary:</b> <b>1.</b> Three features have missing data. As described below, two will be imputed with the feature mean and the remaining is a categorical variable that will be imputed with a specific new value.\n",
    "\n",
    "The percentage of retained users from this sample was 36.620%.\n",
    "\n",
    "The retention of users appears to be most closely correlated to city, trips in the first 30 days, the type of phone, and whether the user was an Ultimate Black user."
   ]
  },
  {
   "cell_type": "markdown",
   "id": "1c25b9b0",
   "metadata": {},
   "source": [
    "### Cleaning Data"
   ]
  },
  {
   "cell_type": "code",
   "execution_count": 24,
   "id": "f19665fd",
   "metadata": {},
   "outputs": [],
   "source": [
    "df = pd.read_json('../ultimate_data_challenge.json', convert_dates=['signup_date', 'last_trip_date'])"
   ]
  },
  {
   "cell_type": "code",
   "execution_count": 25,
   "id": "954ef586",
   "metadata": {},
   "outputs": [
    {
     "data": {
      "text/html": [
       "<div>\n",
       "<style scoped>\n",
       "    .dataframe tbody tr th:only-of-type {\n",
       "        vertical-align: middle;\n",
       "    }\n",
       "\n",
       "    .dataframe tbody tr th {\n",
       "        vertical-align: top;\n",
       "    }\n",
       "\n",
       "    .dataframe thead th {\n",
       "        text-align: right;\n",
       "    }\n",
       "</style>\n",
       "<table border=\"1\" class=\"dataframe\">\n",
       "  <thead>\n",
       "    <tr style=\"text-align: right;\">\n",
       "      <th></th>\n",
       "      <th>city</th>\n",
       "      <th>trips_in_first_30_days</th>\n",
       "      <th>signup_date</th>\n",
       "      <th>avg_rating_of_driver</th>\n",
       "      <th>avg_surge</th>\n",
       "      <th>last_trip_date</th>\n",
       "      <th>phone</th>\n",
       "      <th>surge_pct</th>\n",
       "      <th>ultimate_black_user</th>\n",
       "      <th>weekday_pct</th>\n",
       "      <th>avg_dist</th>\n",
       "      <th>avg_rating_by_driver</th>\n",
       "    </tr>\n",
       "  </thead>\n",
       "  <tbody>\n",
       "    <tr>\n",
       "      <th>0</th>\n",
       "      <td>King's Landing</td>\n",
       "      <td>4</td>\n",
       "      <td>2014-01-25</td>\n",
       "      <td>4.7</td>\n",
       "      <td>1.10</td>\n",
       "      <td>2014-06-17</td>\n",
       "      <td>iPhone</td>\n",
       "      <td>15.4</td>\n",
       "      <td>True</td>\n",
       "      <td>46.2</td>\n",
       "      <td>3.67</td>\n",
       "      <td>5.0</td>\n",
       "    </tr>\n",
       "    <tr>\n",
       "      <th>1</th>\n",
       "      <td>Astapor</td>\n",
       "      <td>0</td>\n",
       "      <td>2014-01-29</td>\n",
       "      <td>5.0</td>\n",
       "      <td>1.00</td>\n",
       "      <td>2014-05-05</td>\n",
       "      <td>Android</td>\n",
       "      <td>0.0</td>\n",
       "      <td>False</td>\n",
       "      <td>50.0</td>\n",
       "      <td>8.26</td>\n",
       "      <td>5.0</td>\n",
       "    </tr>\n",
       "    <tr>\n",
       "      <th>2</th>\n",
       "      <td>Astapor</td>\n",
       "      <td>3</td>\n",
       "      <td>2014-01-06</td>\n",
       "      <td>4.3</td>\n",
       "      <td>1.00</td>\n",
       "      <td>2014-01-07</td>\n",
       "      <td>iPhone</td>\n",
       "      <td>0.0</td>\n",
       "      <td>False</td>\n",
       "      <td>100.0</td>\n",
       "      <td>0.77</td>\n",
       "      <td>5.0</td>\n",
       "    </tr>\n",
       "    <tr>\n",
       "      <th>3</th>\n",
       "      <td>King's Landing</td>\n",
       "      <td>9</td>\n",
       "      <td>2014-01-10</td>\n",
       "      <td>4.6</td>\n",
       "      <td>1.14</td>\n",
       "      <td>2014-06-29</td>\n",
       "      <td>iPhone</td>\n",
       "      <td>20.0</td>\n",
       "      <td>True</td>\n",
       "      <td>80.0</td>\n",
       "      <td>2.36</td>\n",
       "      <td>4.9</td>\n",
       "    </tr>\n",
       "    <tr>\n",
       "      <th>4</th>\n",
       "      <td>Winterfell</td>\n",
       "      <td>14</td>\n",
       "      <td>2014-01-27</td>\n",
       "      <td>4.4</td>\n",
       "      <td>1.19</td>\n",
       "      <td>2014-03-15</td>\n",
       "      <td>Android</td>\n",
       "      <td>11.8</td>\n",
       "      <td>False</td>\n",
       "      <td>82.4</td>\n",
       "      <td>3.13</td>\n",
       "      <td>4.9</td>\n",
       "    </tr>\n",
       "    <tr>\n",
       "      <th>...</th>\n",
       "      <td>...</td>\n",
       "      <td>...</td>\n",
       "      <td>...</td>\n",
       "      <td>...</td>\n",
       "      <td>...</td>\n",
       "      <td>...</td>\n",
       "      <td>...</td>\n",
       "      <td>...</td>\n",
       "      <td>...</td>\n",
       "      <td>...</td>\n",
       "      <td>...</td>\n",
       "      <td>...</td>\n",
       "    </tr>\n",
       "    <tr>\n",
       "      <th>49995</th>\n",
       "      <td>King's Landing</td>\n",
       "      <td>0</td>\n",
       "      <td>2014-01-25</td>\n",
       "      <td>5.0</td>\n",
       "      <td>1.00</td>\n",
       "      <td>2014-06-05</td>\n",
       "      <td>iPhone</td>\n",
       "      <td>0.0</td>\n",
       "      <td>False</td>\n",
       "      <td>100.0</td>\n",
       "      <td>5.63</td>\n",
       "      <td>4.2</td>\n",
       "    </tr>\n",
       "    <tr>\n",
       "      <th>49996</th>\n",
       "      <td>Astapor</td>\n",
       "      <td>1</td>\n",
       "      <td>2014-01-24</td>\n",
       "      <td>NaN</td>\n",
       "      <td>1.00</td>\n",
       "      <td>2014-01-25</td>\n",
       "      <td>iPhone</td>\n",
       "      <td>0.0</td>\n",
       "      <td>False</td>\n",
       "      <td>0.0</td>\n",
       "      <td>0.00</td>\n",
       "      <td>4.0</td>\n",
       "    </tr>\n",
       "    <tr>\n",
       "      <th>49997</th>\n",
       "      <td>Winterfell</td>\n",
       "      <td>0</td>\n",
       "      <td>2014-01-31</td>\n",
       "      <td>5.0</td>\n",
       "      <td>1.00</td>\n",
       "      <td>2014-05-22</td>\n",
       "      <td>Android</td>\n",
       "      <td>0.0</td>\n",
       "      <td>True</td>\n",
       "      <td>100.0</td>\n",
       "      <td>3.86</td>\n",
       "      <td>5.0</td>\n",
       "    </tr>\n",
       "    <tr>\n",
       "      <th>49998</th>\n",
       "      <td>Astapor</td>\n",
       "      <td>2</td>\n",
       "      <td>2014-01-14</td>\n",
       "      <td>3.0</td>\n",
       "      <td>1.00</td>\n",
       "      <td>2014-01-15</td>\n",
       "      <td>iPhone</td>\n",
       "      <td>0.0</td>\n",
       "      <td>False</td>\n",
       "      <td>100.0</td>\n",
       "      <td>4.58</td>\n",
       "      <td>3.5</td>\n",
       "    </tr>\n",
       "    <tr>\n",
       "      <th>49999</th>\n",
       "      <td>Astapor</td>\n",
       "      <td>0</td>\n",
       "      <td>2014-01-18</td>\n",
       "      <td>NaN</td>\n",
       "      <td>1.00</td>\n",
       "      <td>2014-04-20</td>\n",
       "      <td>Android</td>\n",
       "      <td>0.0</td>\n",
       "      <td>False</td>\n",
       "      <td>0.0</td>\n",
       "      <td>3.49</td>\n",
       "      <td>5.0</td>\n",
       "    </tr>\n",
       "  </tbody>\n",
       "</table>\n",
       "<p>50000 rows × 12 columns</p>\n",
       "</div>"
      ],
      "text/plain": [
       "                 city  trips_in_first_30_days signup_date  \\\n",
       "0      King's Landing                       4  2014-01-25   \n",
       "1             Astapor                       0  2014-01-29   \n",
       "2             Astapor                       3  2014-01-06   \n",
       "3      King's Landing                       9  2014-01-10   \n",
       "4          Winterfell                      14  2014-01-27   \n",
       "...               ...                     ...         ...   \n",
       "49995  King's Landing                       0  2014-01-25   \n",
       "49996         Astapor                       1  2014-01-24   \n",
       "49997      Winterfell                       0  2014-01-31   \n",
       "49998         Astapor                       2  2014-01-14   \n",
       "49999         Astapor                       0  2014-01-18   \n",
       "\n",
       "       avg_rating_of_driver  avg_surge last_trip_date    phone  surge_pct  \\\n",
       "0                       4.7       1.10     2014-06-17   iPhone       15.4   \n",
       "1                       5.0       1.00     2014-05-05  Android        0.0   \n",
       "2                       4.3       1.00     2014-01-07   iPhone        0.0   \n",
       "3                       4.6       1.14     2014-06-29   iPhone       20.0   \n",
       "4                       4.4       1.19     2014-03-15  Android       11.8   \n",
       "...                     ...        ...            ...      ...        ...   \n",
       "49995                   5.0       1.00     2014-06-05   iPhone        0.0   \n",
       "49996                   NaN       1.00     2014-01-25   iPhone        0.0   \n",
       "49997                   5.0       1.00     2014-05-22  Android        0.0   \n",
       "49998                   3.0       1.00     2014-01-15   iPhone        0.0   \n",
       "49999                   NaN       1.00     2014-04-20  Android        0.0   \n",
       "\n",
       "       ultimate_black_user  weekday_pct  avg_dist  avg_rating_by_driver  \n",
       "0                     True         46.2      3.67                   5.0  \n",
       "1                    False         50.0      8.26                   5.0  \n",
       "2                    False        100.0      0.77                   5.0  \n",
       "3                     True         80.0      2.36                   4.9  \n",
       "4                    False         82.4      3.13                   4.9  \n",
       "...                    ...          ...       ...                   ...  \n",
       "49995                False        100.0      5.63                   4.2  \n",
       "49996                False          0.0      0.00                   4.0  \n",
       "49997                 True        100.0      3.86                   5.0  \n",
       "49998                False        100.0      4.58                   3.5  \n",
       "49999                False          0.0      3.49                   5.0  \n",
       "\n",
       "[50000 rows x 12 columns]"
      ]
     },
     "execution_count": 25,
     "metadata": {},
     "output_type": "execute_result"
    }
   ],
   "source": [
    "df"
   ]
  },
  {
   "cell_type": "code",
   "execution_count": 26,
   "id": "32b615dc",
   "metadata": {},
   "outputs": [
    {
     "name": "stdout",
     "output_type": "stream",
     "text": [
      "<class 'pandas.core.frame.DataFrame'>\n",
      "RangeIndex: 50000 entries, 0 to 49999\n",
      "Data columns (total 12 columns):\n",
      " #   Column                  Non-Null Count  Dtype         \n",
      "---  ------                  --------------  -----         \n",
      " 0   city                    50000 non-null  object        \n",
      " 1   trips_in_first_30_days  50000 non-null  int64         \n",
      " 2   signup_date             50000 non-null  datetime64[ns]\n",
      " 3   avg_rating_of_driver    41878 non-null  float64       \n",
      " 4   avg_surge               50000 non-null  float64       \n",
      " 5   last_trip_date          50000 non-null  datetime64[ns]\n",
      " 6   phone                   49604 non-null  object        \n",
      " 7   surge_pct               50000 non-null  float64       \n",
      " 8   ultimate_black_user     50000 non-null  bool          \n",
      " 9   weekday_pct             50000 non-null  float64       \n",
      " 10  avg_dist                50000 non-null  float64       \n",
      " 11  avg_rating_by_driver    49799 non-null  float64       \n",
      "dtypes: bool(1), datetime64[ns](2), float64(6), int64(1), object(2)\n",
      "memory usage: 4.2+ MB\n"
     ]
    }
   ],
   "source": [
    "df.info()"
   ]
  },
  {
   "cell_type": "markdown",
   "id": "1ea23f63",
   "metadata": {},
   "source": [
    "We convert the boolean feature to integer values for use later."
   ]
  },
  {
   "cell_type": "code",
   "execution_count": 27,
   "id": "cccd449e",
   "metadata": {},
   "outputs": [],
   "source": [
    "df['ultimate_black_user'] = df['ultimate_black_user'].astype(int)"
   ]
  },
  {
   "cell_type": "markdown",
   "id": "a5beb760",
   "metadata": {},
   "source": [
    "Of the 50,000 users, we have complete data except for the two rating categories and for the phone category. There appear to be some differences between the users lacking ratings and those with ratings, however we will impute the mean rating in each category to the users.\n",
    "\n",
    "For users without phone information, they may be signing up and requesting rides from a laptop or desktop PC. Lack of mobile options to request rides may potentially play a role in retention, so we will code that information as \"missing\"."
   ]
  },
  {
   "cell_type": "code",
   "execution_count": 28,
   "id": "5b0f453c",
   "metadata": {},
   "outputs": [
    {
     "name": "stdout",
     "output_type": "stream",
     "text": [
      "<class 'pandas.core.frame.DataFrame'>\n",
      "RangeIndex: 50000 entries, 0 to 49999\n",
      "Data columns (total 12 columns):\n",
      " #   Column                  Non-Null Count  Dtype         \n",
      "---  ------                  --------------  -----         \n",
      " 0   city                    50000 non-null  object        \n",
      " 1   trips_in_first_30_days  50000 non-null  int64         \n",
      " 2   signup_date             50000 non-null  datetime64[ns]\n",
      " 3   avg_rating_of_driver    41878 non-null  float64       \n",
      " 4   avg_surge               50000 non-null  float64       \n",
      " 5   last_trip_date          50000 non-null  datetime64[ns]\n",
      " 6   phone                   49604 non-null  object        \n",
      " 7   surge_pct               50000 non-null  float64       \n",
      " 8   ultimate_black_user     50000 non-null  int32         \n",
      " 9   weekday_pct             50000 non-null  float64       \n",
      " 10  avg_dist                50000 non-null  float64       \n",
      " 11  avg_rating_by_driver    49799 non-null  float64       \n",
      "dtypes: datetime64[ns](2), float64(6), int32(1), int64(1), object(2)\n",
      "memory usage: 4.4+ MB\n"
     ]
    }
   ],
   "source": [
    "df.info()"
   ]
  },
  {
   "cell_type": "code",
   "execution_count": 29,
   "id": "681794d1",
   "metadata": {},
   "outputs": [
    {
     "data": {
      "text/html": [
       "<div>\n",
       "<style scoped>\n",
       "    .dataframe tbody tr th:only-of-type {\n",
       "        vertical-align: middle;\n",
       "    }\n",
       "\n",
       "    .dataframe tbody tr th {\n",
       "        vertical-align: top;\n",
       "    }\n",
       "\n",
       "    .dataframe thead th {\n",
       "        text-align: right;\n",
       "    }\n",
       "</style>\n",
       "<table border=\"1\" class=\"dataframe\">\n",
       "  <thead>\n",
       "    <tr style=\"text-align: right;\">\n",
       "      <th></th>\n",
       "      <th>trips_in_first_30_days</th>\n",
       "      <th>avg_rating_of_driver</th>\n",
       "      <th>avg_surge</th>\n",
       "      <th>surge_pct</th>\n",
       "      <th>ultimate_black_user</th>\n",
       "      <th>weekday_pct</th>\n",
       "      <th>avg_dist</th>\n",
       "      <th>avg_rating_by_driver</th>\n",
       "    </tr>\n",
       "  </thead>\n",
       "  <tbody>\n",
       "    <tr>\n",
       "      <th>count</th>\n",
       "      <td>50000.000000</td>\n",
       "      <td>41878.000000</td>\n",
       "      <td>50000.000000</td>\n",
       "      <td>50000.000000</td>\n",
       "      <td>50000.00000</td>\n",
       "      <td>50000.000000</td>\n",
       "      <td>50000.000000</td>\n",
       "      <td>49799.000000</td>\n",
       "    </tr>\n",
       "    <tr>\n",
       "      <th>mean</th>\n",
       "      <td>2.278200</td>\n",
       "      <td>4.601559</td>\n",
       "      <td>1.074764</td>\n",
       "      <td>8.849536</td>\n",
       "      <td>0.37708</td>\n",
       "      <td>60.926084</td>\n",
       "      <td>5.796827</td>\n",
       "      <td>4.778158</td>\n",
       "    </tr>\n",
       "    <tr>\n",
       "      <th>std</th>\n",
       "      <td>3.792684</td>\n",
       "      <td>0.617338</td>\n",
       "      <td>0.222336</td>\n",
       "      <td>19.958811</td>\n",
       "      <td>0.48466</td>\n",
       "      <td>37.081503</td>\n",
       "      <td>5.707357</td>\n",
       "      <td>0.446652</td>\n",
       "    </tr>\n",
       "    <tr>\n",
       "      <th>min</th>\n",
       "      <td>0.000000</td>\n",
       "      <td>1.000000</td>\n",
       "      <td>1.000000</td>\n",
       "      <td>0.000000</td>\n",
       "      <td>0.00000</td>\n",
       "      <td>0.000000</td>\n",
       "      <td>0.000000</td>\n",
       "      <td>1.000000</td>\n",
       "    </tr>\n",
       "    <tr>\n",
       "      <th>25%</th>\n",
       "      <td>0.000000</td>\n",
       "      <td>4.300000</td>\n",
       "      <td>1.000000</td>\n",
       "      <td>0.000000</td>\n",
       "      <td>0.00000</td>\n",
       "      <td>33.300000</td>\n",
       "      <td>2.420000</td>\n",
       "      <td>4.700000</td>\n",
       "    </tr>\n",
       "    <tr>\n",
       "      <th>50%</th>\n",
       "      <td>1.000000</td>\n",
       "      <td>4.900000</td>\n",
       "      <td>1.000000</td>\n",
       "      <td>0.000000</td>\n",
       "      <td>0.00000</td>\n",
       "      <td>66.700000</td>\n",
       "      <td>3.880000</td>\n",
       "      <td>5.000000</td>\n",
       "    </tr>\n",
       "    <tr>\n",
       "      <th>75%</th>\n",
       "      <td>3.000000</td>\n",
       "      <td>5.000000</td>\n",
       "      <td>1.050000</td>\n",
       "      <td>8.600000</td>\n",
       "      <td>1.00000</td>\n",
       "      <td>100.000000</td>\n",
       "      <td>6.940000</td>\n",
       "      <td>5.000000</td>\n",
       "    </tr>\n",
       "    <tr>\n",
       "      <th>max</th>\n",
       "      <td>125.000000</td>\n",
       "      <td>5.000000</td>\n",
       "      <td>8.000000</td>\n",
       "      <td>100.000000</td>\n",
       "      <td>1.00000</td>\n",
       "      <td>100.000000</td>\n",
       "      <td>160.960000</td>\n",
       "      <td>5.000000</td>\n",
       "    </tr>\n",
       "  </tbody>\n",
       "</table>\n",
       "</div>"
      ],
      "text/plain": [
       "       trips_in_first_30_days  avg_rating_of_driver     avg_surge  \\\n",
       "count            50000.000000          41878.000000  50000.000000   \n",
       "mean                 2.278200              4.601559      1.074764   \n",
       "std                  3.792684              0.617338      0.222336   \n",
       "min                  0.000000              1.000000      1.000000   \n",
       "25%                  0.000000              4.300000      1.000000   \n",
       "50%                  1.000000              4.900000      1.000000   \n",
       "75%                  3.000000              5.000000      1.050000   \n",
       "max                125.000000              5.000000      8.000000   \n",
       "\n",
       "          surge_pct  ultimate_black_user   weekday_pct      avg_dist  \\\n",
       "count  50000.000000          50000.00000  50000.000000  50000.000000   \n",
       "mean       8.849536              0.37708     60.926084      5.796827   \n",
       "std       19.958811              0.48466     37.081503      5.707357   \n",
       "min        0.000000              0.00000      0.000000      0.000000   \n",
       "25%        0.000000              0.00000     33.300000      2.420000   \n",
       "50%        0.000000              0.00000     66.700000      3.880000   \n",
       "75%        8.600000              1.00000    100.000000      6.940000   \n",
       "max      100.000000              1.00000    100.000000    160.960000   \n",
       "\n",
       "       avg_rating_by_driver  \n",
       "count          49799.000000  \n",
       "mean               4.778158  \n",
       "std                0.446652  \n",
       "min                1.000000  \n",
       "25%                4.700000  \n",
       "50%                5.000000  \n",
       "75%                5.000000  \n",
       "max                5.000000  "
      ]
     },
     "execution_count": 29,
     "metadata": {},
     "output_type": "execute_result"
    }
   ],
   "source": [
    "df.describe()"
   ]
  },
  {
   "cell_type": "code",
   "execution_count": 30,
   "id": "07dc9611",
   "metadata": {},
   "outputs": [
    {
     "data": {
      "text/html": [
       "<div>\n",
       "<style scoped>\n",
       "    .dataframe tbody tr th:only-of-type {\n",
       "        vertical-align: middle;\n",
       "    }\n",
       "\n",
       "    .dataframe tbody tr th {\n",
       "        vertical-align: top;\n",
       "    }\n",
       "\n",
       "    .dataframe thead th {\n",
       "        text-align: right;\n",
       "    }\n",
       "</style>\n",
       "<table border=\"1\" class=\"dataframe\">\n",
       "  <thead>\n",
       "    <tr style=\"text-align: right;\">\n",
       "      <th></th>\n",
       "      <th>trips_in_first_30_days</th>\n",
       "      <th>avg_rating_of_driver</th>\n",
       "      <th>avg_surge</th>\n",
       "      <th>surge_pct</th>\n",
       "      <th>ultimate_black_user</th>\n",
       "      <th>weekday_pct</th>\n",
       "      <th>avg_dist</th>\n",
       "      <th>avg_rating_by_driver</th>\n",
       "    </tr>\n",
       "  </thead>\n",
       "  <tbody>\n",
       "    <tr>\n",
       "      <th>count</th>\n",
       "      <td>8122.000000</td>\n",
       "      <td>0.0</td>\n",
       "      <td>8122.000000</td>\n",
       "      <td>8122.000000</td>\n",
       "      <td>8122.000000</td>\n",
       "      <td>8122.000000</td>\n",
       "      <td>8122.000000</td>\n",
       "      <td>8055.000000</td>\n",
       "    </tr>\n",
       "    <tr>\n",
       "      <th>mean</th>\n",
       "      <td>0.593327</td>\n",
       "      <td>NaN</td>\n",
       "      <td>1.078210</td>\n",
       "      <td>8.548067</td>\n",
       "      <td>0.336740</td>\n",
       "      <td>59.050948</td>\n",
       "      <td>7.506267</td>\n",
       "      <td>4.785984</td>\n",
       "    </tr>\n",
       "    <tr>\n",
       "      <th>std</th>\n",
       "      <td>0.606755</td>\n",
       "      <td>NaN</td>\n",
       "      <td>0.310306</td>\n",
       "      <td>26.578461</td>\n",
       "      <td>0.472624</td>\n",
       "      <td>46.859739</td>\n",
       "      <td>7.758616</td>\n",
       "      <td>0.622122</td>\n",
       "    </tr>\n",
       "    <tr>\n",
       "      <th>min</th>\n",
       "      <td>0.000000</td>\n",
       "      <td>NaN</td>\n",
       "      <td>1.000000</td>\n",
       "      <td>0.000000</td>\n",
       "      <td>0.000000</td>\n",
       "      <td>0.000000</td>\n",
       "      <td>0.000000</td>\n",
       "      <td>1.000000</td>\n",
       "    </tr>\n",
       "    <tr>\n",
       "      <th>25%</th>\n",
       "      <td>0.000000</td>\n",
       "      <td>NaN</td>\n",
       "      <td>1.000000</td>\n",
       "      <td>0.000000</td>\n",
       "      <td>0.000000</td>\n",
       "      <td>0.000000</td>\n",
       "      <td>2.410000</td>\n",
       "      <td>5.000000</td>\n",
       "    </tr>\n",
       "    <tr>\n",
       "      <th>50%</th>\n",
       "      <td>1.000000</td>\n",
       "      <td>NaN</td>\n",
       "      <td>1.000000</td>\n",
       "      <td>0.000000</td>\n",
       "      <td>0.000000</td>\n",
       "      <td>100.000000</td>\n",
       "      <td>4.715000</td>\n",
       "      <td>5.000000</td>\n",
       "    </tr>\n",
       "    <tr>\n",
       "      <th>75%</th>\n",
       "      <td>1.000000</td>\n",
       "      <td>NaN</td>\n",
       "      <td>1.000000</td>\n",
       "      <td>0.000000</td>\n",
       "      <td>1.000000</td>\n",
       "      <td>100.000000</td>\n",
       "      <td>10.720000</td>\n",
       "      <td>5.000000</td>\n",
       "    </tr>\n",
       "    <tr>\n",
       "      <th>max</th>\n",
       "      <td>5.000000</td>\n",
       "      <td>NaN</td>\n",
       "      <td>5.000000</td>\n",
       "      <td>100.000000</td>\n",
       "      <td>1.000000</td>\n",
       "      <td>100.000000</td>\n",
       "      <td>160.960000</td>\n",
       "      <td>5.000000</td>\n",
       "    </tr>\n",
       "  </tbody>\n",
       "</table>\n",
       "</div>"
      ],
      "text/plain": [
       "       trips_in_first_30_days  avg_rating_of_driver    avg_surge    surge_pct  \\\n",
       "count             8122.000000                   0.0  8122.000000  8122.000000   \n",
       "mean                 0.593327                   NaN     1.078210     8.548067   \n",
       "std                  0.606755                   NaN     0.310306    26.578461   \n",
       "min                  0.000000                   NaN     1.000000     0.000000   \n",
       "25%                  0.000000                   NaN     1.000000     0.000000   \n",
       "50%                  1.000000                   NaN     1.000000     0.000000   \n",
       "75%                  1.000000                   NaN     1.000000     0.000000   \n",
       "max                  5.000000                   NaN     5.000000   100.000000   \n",
       "\n",
       "       ultimate_black_user  weekday_pct     avg_dist  avg_rating_by_driver  \n",
       "count          8122.000000  8122.000000  8122.000000           8055.000000  \n",
       "mean              0.336740    59.050948     7.506267              4.785984  \n",
       "std               0.472624    46.859739     7.758616              0.622122  \n",
       "min               0.000000     0.000000     0.000000              1.000000  \n",
       "25%               0.000000     0.000000     2.410000              5.000000  \n",
       "50%               0.000000   100.000000     4.715000              5.000000  \n",
       "75%               1.000000   100.000000    10.720000              5.000000  \n",
       "max               1.000000   100.000000   160.960000              5.000000  "
      ]
     },
     "execution_count": 30,
     "metadata": {},
     "output_type": "execute_result"
    }
   ],
   "source": [
    "df[df.avg_rating_of_driver.isna()].describe()"
   ]
  },
  {
   "cell_type": "code",
   "execution_count": 31,
   "id": "e7c612fd",
   "metadata": {},
   "outputs": [
    {
     "data": {
      "text/html": [
       "<div>\n",
       "<style scoped>\n",
       "    .dataframe tbody tr th:only-of-type {\n",
       "        vertical-align: middle;\n",
       "    }\n",
       "\n",
       "    .dataframe tbody tr th {\n",
       "        vertical-align: top;\n",
       "    }\n",
       "\n",
       "    .dataframe thead th {\n",
       "        text-align: right;\n",
       "    }\n",
       "</style>\n",
       "<table border=\"1\" class=\"dataframe\">\n",
       "  <thead>\n",
       "    <tr style=\"text-align: right;\">\n",
       "      <th></th>\n",
       "      <th>trips_in_first_30_days</th>\n",
       "      <th>avg_rating_of_driver</th>\n",
       "      <th>avg_surge</th>\n",
       "      <th>surge_pct</th>\n",
       "      <th>ultimate_black_user</th>\n",
       "      <th>weekday_pct</th>\n",
       "      <th>avg_dist</th>\n",
       "      <th>avg_rating_by_driver</th>\n",
       "    </tr>\n",
       "  </thead>\n",
       "  <tbody>\n",
       "    <tr>\n",
       "      <th>count</th>\n",
       "      <td>41878.000000</td>\n",
       "      <td>41878.000000</td>\n",
       "      <td>41878.000000</td>\n",
       "      <td>41878.000000</td>\n",
       "      <td>41878.000000</td>\n",
       "      <td>41878.000000</td>\n",
       "      <td>41878.000000</td>\n",
       "      <td>41744.000000</td>\n",
       "    </tr>\n",
       "    <tr>\n",
       "      <th>mean</th>\n",
       "      <td>2.604972</td>\n",
       "      <td>4.601559</td>\n",
       "      <td>1.074095</td>\n",
       "      <td>8.908004</td>\n",
       "      <td>0.384904</td>\n",
       "      <td>61.289756</td>\n",
       "      <td>5.465290</td>\n",
       "      <td>4.776648</td>\n",
       "    </tr>\n",
       "    <tr>\n",
       "      <th>std</th>\n",
       "      <td>4.055311</td>\n",
       "      <td>0.617338</td>\n",
       "      <td>0.200861</td>\n",
       "      <td>18.401140</td>\n",
       "      <td>0.486578</td>\n",
       "      <td>34.858046</td>\n",
       "      <td>5.151833</td>\n",
       "      <td>0.404109</td>\n",
       "    </tr>\n",
       "    <tr>\n",
       "      <th>min</th>\n",
       "      <td>0.000000</td>\n",
       "      <td>1.000000</td>\n",
       "      <td>1.000000</td>\n",
       "      <td>0.000000</td>\n",
       "      <td>0.000000</td>\n",
       "      <td>0.000000</td>\n",
       "      <td>0.000000</td>\n",
       "      <td>1.000000</td>\n",
       "    </tr>\n",
       "    <tr>\n",
       "      <th>25%</th>\n",
       "      <td>0.000000</td>\n",
       "      <td>4.300000</td>\n",
       "      <td>1.000000</td>\n",
       "      <td>0.000000</td>\n",
       "      <td>0.000000</td>\n",
       "      <td>37.500000</td>\n",
       "      <td>2.420000</td>\n",
       "      <td>4.700000</td>\n",
       "    </tr>\n",
       "    <tr>\n",
       "      <th>50%</th>\n",
       "      <td>1.000000</td>\n",
       "      <td>4.900000</td>\n",
       "      <td>1.000000</td>\n",
       "      <td>0.000000</td>\n",
       "      <td>0.000000</td>\n",
       "      <td>66.700000</td>\n",
       "      <td>3.790000</td>\n",
       "      <td>5.000000</td>\n",
       "    </tr>\n",
       "    <tr>\n",
       "      <th>75%</th>\n",
       "      <td>3.000000</td>\n",
       "      <td>5.000000</td>\n",
       "      <td>1.070000</td>\n",
       "      <td>11.100000</td>\n",
       "      <td>1.000000</td>\n",
       "      <td>100.000000</td>\n",
       "      <td>6.490000</td>\n",
       "      <td>5.000000</td>\n",
       "    </tr>\n",
       "    <tr>\n",
       "      <th>max</th>\n",
       "      <td>125.000000</td>\n",
       "      <td>5.000000</td>\n",
       "      <td>8.000000</td>\n",
       "      <td>100.000000</td>\n",
       "      <td>1.000000</td>\n",
       "      <td>100.000000</td>\n",
       "      <td>79.690000</td>\n",
       "      <td>5.000000</td>\n",
       "    </tr>\n",
       "  </tbody>\n",
       "</table>\n",
       "</div>"
      ],
      "text/plain": [
       "       trips_in_first_30_days  avg_rating_of_driver     avg_surge  \\\n",
       "count            41878.000000          41878.000000  41878.000000   \n",
       "mean                 2.604972              4.601559      1.074095   \n",
       "std                  4.055311              0.617338      0.200861   \n",
       "min                  0.000000              1.000000      1.000000   \n",
       "25%                  0.000000              4.300000      1.000000   \n",
       "50%                  1.000000              4.900000      1.000000   \n",
       "75%                  3.000000              5.000000      1.070000   \n",
       "max                125.000000              5.000000      8.000000   \n",
       "\n",
       "          surge_pct  ultimate_black_user   weekday_pct      avg_dist  \\\n",
       "count  41878.000000         41878.000000  41878.000000  41878.000000   \n",
       "mean       8.908004             0.384904     61.289756      5.465290   \n",
       "std       18.401140             0.486578     34.858046      5.151833   \n",
       "min        0.000000             0.000000      0.000000      0.000000   \n",
       "25%        0.000000             0.000000     37.500000      2.420000   \n",
       "50%        0.000000             0.000000     66.700000      3.790000   \n",
       "75%       11.100000             1.000000    100.000000      6.490000   \n",
       "max      100.000000             1.000000    100.000000     79.690000   \n",
       "\n",
       "       avg_rating_by_driver  \n",
       "count          41744.000000  \n",
       "mean               4.776648  \n",
       "std                0.404109  \n",
       "min                1.000000  \n",
       "25%                4.700000  \n",
       "50%                5.000000  \n",
       "75%                5.000000  \n",
       "max                5.000000  "
      ]
     },
     "execution_count": 31,
     "metadata": {},
     "output_type": "execute_result"
    }
   ],
   "source": [
    "df[df.avg_rating_of_driver.notna()].describe()"
   ]
  },
  {
   "cell_type": "code",
   "execution_count": 32,
   "id": "217c72f6",
   "metadata": {},
   "outputs": [
    {
     "data": {
      "text/html": [
       "<div>\n",
       "<style scoped>\n",
       "    .dataframe tbody tr th:only-of-type {\n",
       "        vertical-align: middle;\n",
       "    }\n",
       "\n",
       "    .dataframe tbody tr th {\n",
       "        vertical-align: top;\n",
       "    }\n",
       "\n",
       "    .dataframe thead th {\n",
       "        text-align: right;\n",
       "    }\n",
       "</style>\n",
       "<table border=\"1\" class=\"dataframe\">\n",
       "  <thead>\n",
       "    <tr style=\"text-align: right;\">\n",
       "      <th></th>\n",
       "      <th>trips_in_first_30_days</th>\n",
       "      <th>avg_rating_of_driver</th>\n",
       "      <th>avg_surge</th>\n",
       "      <th>surge_pct</th>\n",
       "      <th>ultimate_black_user</th>\n",
       "      <th>weekday_pct</th>\n",
       "      <th>avg_dist</th>\n",
       "      <th>avg_rating_by_driver</th>\n",
       "    </tr>\n",
       "  </thead>\n",
       "  <tbody>\n",
       "    <tr>\n",
       "      <th>count</th>\n",
       "      <td>201.000000</td>\n",
       "      <td>134.000000</td>\n",
       "      <td>201.000000</td>\n",
       "      <td>201.000000</td>\n",
       "      <td>201.000000</td>\n",
       "      <td>201.000000</td>\n",
       "      <td>201.000000</td>\n",
       "      <td>0.0</td>\n",
       "    </tr>\n",
       "    <tr>\n",
       "      <th>mean</th>\n",
       "      <td>0.552239</td>\n",
       "      <td>4.526119</td>\n",
       "      <td>1.165821</td>\n",
       "      <td>15.754726</td>\n",
       "      <td>0.169154</td>\n",
       "      <td>53.233831</td>\n",
       "      <td>6.167164</td>\n",
       "      <td>NaN</td>\n",
       "    </tr>\n",
       "    <tr>\n",
       "      <th>std</th>\n",
       "      <td>0.537129</td>\n",
       "      <td>0.930513</td>\n",
       "      <td>0.471684</td>\n",
       "      <td>36.370207</td>\n",
       "      <td>0.375824</td>\n",
       "      <td>50.019897</td>\n",
       "      <td>12.259533</td>\n",
       "      <td>NaN</td>\n",
       "    </tr>\n",
       "    <tr>\n",
       "      <th>min</th>\n",
       "      <td>0.000000</td>\n",
       "      <td>1.000000</td>\n",
       "      <td>1.000000</td>\n",
       "      <td>0.000000</td>\n",
       "      <td>0.000000</td>\n",
       "      <td>0.000000</td>\n",
       "      <td>0.000000</td>\n",
       "      <td>NaN</td>\n",
       "    </tr>\n",
       "    <tr>\n",
       "      <th>25%</th>\n",
       "      <td>0.000000</td>\n",
       "      <td>4.000000</td>\n",
       "      <td>1.000000</td>\n",
       "      <td>0.000000</td>\n",
       "      <td>0.000000</td>\n",
       "      <td>0.000000</td>\n",
       "      <td>1.980000</td>\n",
       "      <td>NaN</td>\n",
       "    </tr>\n",
       "    <tr>\n",
       "      <th>50%</th>\n",
       "      <td>1.000000</td>\n",
       "      <td>5.000000</td>\n",
       "      <td>1.000000</td>\n",
       "      <td>0.000000</td>\n",
       "      <td>0.000000</td>\n",
       "      <td>100.000000</td>\n",
       "      <td>3.360000</td>\n",
       "      <td>NaN</td>\n",
       "    </tr>\n",
       "    <tr>\n",
       "      <th>75%</th>\n",
       "      <td>1.000000</td>\n",
       "      <td>5.000000</td>\n",
       "      <td>1.000000</td>\n",
       "      <td>0.000000</td>\n",
       "      <td>0.000000</td>\n",
       "      <td>100.000000</td>\n",
       "      <td>6.370000</td>\n",
       "      <td>NaN</td>\n",
       "    </tr>\n",
       "    <tr>\n",
       "      <th>max</th>\n",
       "      <td>2.000000</td>\n",
       "      <td>5.000000</td>\n",
       "      <td>4.000000</td>\n",
       "      <td>100.000000</td>\n",
       "      <td>1.000000</td>\n",
       "      <td>100.000000</td>\n",
       "      <td>160.960000</td>\n",
       "      <td>NaN</td>\n",
       "    </tr>\n",
       "  </tbody>\n",
       "</table>\n",
       "</div>"
      ],
      "text/plain": [
       "       trips_in_first_30_days  avg_rating_of_driver   avg_surge   surge_pct  \\\n",
       "count              201.000000            134.000000  201.000000  201.000000   \n",
       "mean                 0.552239              4.526119    1.165821   15.754726   \n",
       "std                  0.537129              0.930513    0.471684   36.370207   \n",
       "min                  0.000000              1.000000    1.000000    0.000000   \n",
       "25%                  0.000000              4.000000    1.000000    0.000000   \n",
       "50%                  1.000000              5.000000    1.000000    0.000000   \n",
       "75%                  1.000000              5.000000    1.000000    0.000000   \n",
       "max                  2.000000              5.000000    4.000000  100.000000   \n",
       "\n",
       "       ultimate_black_user  weekday_pct    avg_dist  avg_rating_by_driver  \n",
       "count           201.000000   201.000000  201.000000                   0.0  \n",
       "mean              0.169154    53.233831    6.167164                   NaN  \n",
       "std               0.375824    50.019897   12.259533                   NaN  \n",
       "min               0.000000     0.000000    0.000000                   NaN  \n",
       "25%               0.000000     0.000000    1.980000                   NaN  \n",
       "50%               0.000000   100.000000    3.360000                   NaN  \n",
       "75%               0.000000   100.000000    6.370000                   NaN  \n",
       "max               1.000000   100.000000  160.960000                   NaN  "
      ]
     },
     "execution_count": 32,
     "metadata": {},
     "output_type": "execute_result"
    }
   ],
   "source": [
    "df[df.avg_rating_by_driver.isna()].describe()"
   ]
  },
  {
   "cell_type": "code",
   "execution_count": 33,
   "id": "29ce14ed",
   "metadata": {},
   "outputs": [
    {
     "data": {
      "text/html": [
       "<div>\n",
       "<style scoped>\n",
       "    .dataframe tbody tr th:only-of-type {\n",
       "        vertical-align: middle;\n",
       "    }\n",
       "\n",
       "    .dataframe tbody tr th {\n",
       "        vertical-align: top;\n",
       "    }\n",
       "\n",
       "    .dataframe thead th {\n",
       "        text-align: right;\n",
       "    }\n",
       "</style>\n",
       "<table border=\"1\" class=\"dataframe\">\n",
       "  <thead>\n",
       "    <tr style=\"text-align: right;\">\n",
       "      <th></th>\n",
       "      <th>trips_in_first_30_days</th>\n",
       "      <th>avg_rating_of_driver</th>\n",
       "      <th>avg_surge</th>\n",
       "      <th>surge_pct</th>\n",
       "      <th>ultimate_black_user</th>\n",
       "      <th>weekday_pct</th>\n",
       "      <th>avg_dist</th>\n",
       "      <th>avg_rating_by_driver</th>\n",
       "    </tr>\n",
       "  </thead>\n",
       "  <tbody>\n",
       "    <tr>\n",
       "      <th>count</th>\n",
       "      <td>49799.000000</td>\n",
       "      <td>41744.000000</td>\n",
       "      <td>49799.000000</td>\n",
       "      <td>49799.000000</td>\n",
       "      <td>49799.000000</td>\n",
       "      <td>49799.000000</td>\n",
       "      <td>49799.000000</td>\n",
       "      <td>49799.000000</td>\n",
       "    </tr>\n",
       "    <tr>\n",
       "      <th>mean</th>\n",
       "      <td>2.285166</td>\n",
       "      <td>4.601801</td>\n",
       "      <td>1.074396</td>\n",
       "      <td>8.821665</td>\n",
       "      <td>0.377919</td>\n",
       "      <td>60.957132</td>\n",
       "      <td>5.795332</td>\n",
       "      <td>4.778158</td>\n",
       "    </tr>\n",
       "    <tr>\n",
       "      <th>std</th>\n",
       "      <td>3.798589</td>\n",
       "      <td>0.616079</td>\n",
       "      <td>0.220694</td>\n",
       "      <td>19.860920</td>\n",
       "      <td>0.484872</td>\n",
       "      <td>37.017558</td>\n",
       "      <td>5.665794</td>\n",
       "      <td>0.446652</td>\n",
       "    </tr>\n",
       "    <tr>\n",
       "      <th>min</th>\n",
       "      <td>0.000000</td>\n",
       "      <td>1.000000</td>\n",
       "      <td>1.000000</td>\n",
       "      <td>0.000000</td>\n",
       "      <td>0.000000</td>\n",
       "      <td>0.000000</td>\n",
       "      <td>0.000000</td>\n",
       "      <td>1.000000</td>\n",
       "    </tr>\n",
       "    <tr>\n",
       "      <th>25%</th>\n",
       "      <td>0.000000</td>\n",
       "      <td>4.300000</td>\n",
       "      <td>1.000000</td>\n",
       "      <td>0.000000</td>\n",
       "      <td>0.000000</td>\n",
       "      <td>33.300000</td>\n",
       "      <td>2.420000</td>\n",
       "      <td>4.700000</td>\n",
       "    </tr>\n",
       "    <tr>\n",
       "      <th>50%</th>\n",
       "      <td>1.000000</td>\n",
       "      <td>4.900000</td>\n",
       "      <td>1.000000</td>\n",
       "      <td>0.000000</td>\n",
       "      <td>0.000000</td>\n",
       "      <td>66.700000</td>\n",
       "      <td>3.890000</td>\n",
       "      <td>5.000000</td>\n",
       "    </tr>\n",
       "    <tr>\n",
       "      <th>75%</th>\n",
       "      <td>3.000000</td>\n",
       "      <td>5.000000</td>\n",
       "      <td>1.050000</td>\n",
       "      <td>8.700000</td>\n",
       "      <td>1.000000</td>\n",
       "      <td>100.000000</td>\n",
       "      <td>6.940000</td>\n",
       "      <td>5.000000</td>\n",
       "    </tr>\n",
       "    <tr>\n",
       "      <th>max</th>\n",
       "      <td>125.000000</td>\n",
       "      <td>5.000000</td>\n",
       "      <td>8.000000</td>\n",
       "      <td>100.000000</td>\n",
       "      <td>1.000000</td>\n",
       "      <td>100.000000</td>\n",
       "      <td>129.890000</td>\n",
       "      <td>5.000000</td>\n",
       "    </tr>\n",
       "  </tbody>\n",
       "</table>\n",
       "</div>"
      ],
      "text/plain": [
       "       trips_in_first_30_days  avg_rating_of_driver     avg_surge  \\\n",
       "count            49799.000000          41744.000000  49799.000000   \n",
       "mean                 2.285166              4.601801      1.074396   \n",
       "std                  3.798589              0.616079      0.220694   \n",
       "min                  0.000000              1.000000      1.000000   \n",
       "25%                  0.000000              4.300000      1.000000   \n",
       "50%                  1.000000              4.900000      1.000000   \n",
       "75%                  3.000000              5.000000      1.050000   \n",
       "max                125.000000              5.000000      8.000000   \n",
       "\n",
       "          surge_pct  ultimate_black_user   weekday_pct      avg_dist  \\\n",
       "count  49799.000000         49799.000000  49799.000000  49799.000000   \n",
       "mean       8.821665             0.377919     60.957132      5.795332   \n",
       "std       19.860920             0.484872     37.017558      5.665794   \n",
       "min        0.000000             0.000000      0.000000      0.000000   \n",
       "25%        0.000000             0.000000     33.300000      2.420000   \n",
       "50%        0.000000             0.000000     66.700000      3.890000   \n",
       "75%        8.700000             1.000000    100.000000      6.940000   \n",
       "max      100.000000             1.000000    100.000000    129.890000   \n",
       "\n",
       "       avg_rating_by_driver  \n",
       "count          49799.000000  \n",
       "mean               4.778158  \n",
       "std                0.446652  \n",
       "min                1.000000  \n",
       "25%                4.700000  \n",
       "50%                5.000000  \n",
       "75%                5.000000  \n",
       "max                5.000000  "
      ]
     },
     "execution_count": 33,
     "metadata": {},
     "output_type": "execute_result"
    }
   ],
   "source": [
    "df[df.avg_rating_by_driver.notna()].describe()"
   ]
  },
  {
   "cell_type": "code",
   "execution_count": 34,
   "id": "2bb5e85a",
   "metadata": {},
   "outputs": [
    {
     "data": {
      "text/html": [
       "<div>\n",
       "<style scoped>\n",
       "    .dataframe tbody tr th:only-of-type {\n",
       "        vertical-align: middle;\n",
       "    }\n",
       "\n",
       "    .dataframe tbody tr th {\n",
       "        vertical-align: top;\n",
       "    }\n",
       "\n",
       "    .dataframe thead th {\n",
       "        text-align: right;\n",
       "    }\n",
       "</style>\n",
       "<table border=\"1\" class=\"dataframe\">\n",
       "  <thead>\n",
       "    <tr style=\"text-align: right;\">\n",
       "      <th></th>\n",
       "      <th>trips_in_first_30_days</th>\n",
       "      <th>avg_rating_of_driver</th>\n",
       "      <th>avg_surge</th>\n",
       "      <th>surge_pct</th>\n",
       "      <th>ultimate_black_user</th>\n",
       "      <th>weekday_pct</th>\n",
       "      <th>avg_dist</th>\n",
       "      <th>avg_rating_by_driver</th>\n",
       "    </tr>\n",
       "  </thead>\n",
       "  <tbody>\n",
       "    <tr>\n",
       "      <th>count</th>\n",
       "      <td>396.000000</td>\n",
       "      <td>300.000000</td>\n",
       "      <td>396.000000</td>\n",
       "      <td>396.000000</td>\n",
       "      <td>396.000000</td>\n",
       "      <td>396.000000</td>\n",
       "      <td>396.000000</td>\n",
       "      <td>393.000000</td>\n",
       "    </tr>\n",
       "    <tr>\n",
       "      <th>mean</th>\n",
       "      <td>2.396465</td>\n",
       "      <td>4.614333</td>\n",
       "      <td>1.046338</td>\n",
       "      <td>5.620455</td>\n",
       "      <td>0.611111</td>\n",
       "      <td>66.218687</td>\n",
       "      <td>7.225859</td>\n",
       "      <td>4.815522</td>\n",
       "    </tr>\n",
       "    <tr>\n",
       "      <th>std</th>\n",
       "      <td>3.717477</td>\n",
       "      <td>0.612818</td>\n",
       "      <td>0.174052</td>\n",
       "      <td>15.404279</td>\n",
       "      <td>0.488115</td>\n",
       "      <td>36.140061</td>\n",
       "      <td>9.185866</td>\n",
       "      <td>0.382844</td>\n",
       "    </tr>\n",
       "    <tr>\n",
       "      <th>min</th>\n",
       "      <td>0.000000</td>\n",
       "      <td>1.000000</td>\n",
       "      <td>1.000000</td>\n",
       "      <td>0.000000</td>\n",
       "      <td>0.000000</td>\n",
       "      <td>0.000000</td>\n",
       "      <td>0.000000</td>\n",
       "      <td>1.000000</td>\n",
       "    </tr>\n",
       "    <tr>\n",
       "      <th>25%</th>\n",
       "      <td>1.000000</td>\n",
       "      <td>4.500000</td>\n",
       "      <td>1.000000</td>\n",
       "      <td>0.000000</td>\n",
       "      <td>0.000000</td>\n",
       "      <td>50.000000</td>\n",
       "      <td>2.857500</td>\n",
       "      <td>4.800000</td>\n",
       "    </tr>\n",
       "    <tr>\n",
       "      <th>50%</th>\n",
       "      <td>1.000000</td>\n",
       "      <td>4.900000</td>\n",
       "      <td>1.000000</td>\n",
       "      <td>0.000000</td>\n",
       "      <td>1.000000</td>\n",
       "      <td>74.150000</td>\n",
       "      <td>4.465000</td>\n",
       "      <td>5.000000</td>\n",
       "    </tr>\n",
       "    <tr>\n",
       "      <th>75%</th>\n",
       "      <td>2.000000</td>\n",
       "      <td>5.000000</td>\n",
       "      <td>1.000000</td>\n",
       "      <td>0.000000</td>\n",
       "      <td>1.000000</td>\n",
       "      <td>100.000000</td>\n",
       "      <td>8.652500</td>\n",
       "      <td>5.000000</td>\n",
       "    </tr>\n",
       "    <tr>\n",
       "      <th>max</th>\n",
       "      <td>27.000000</td>\n",
       "      <td>5.000000</td>\n",
       "      <td>3.000000</td>\n",
       "      <td>100.000000</td>\n",
       "      <td>1.000000</td>\n",
       "      <td>100.000000</td>\n",
       "      <td>129.890000</td>\n",
       "      <td>5.000000</td>\n",
       "    </tr>\n",
       "  </tbody>\n",
       "</table>\n",
       "</div>"
      ],
      "text/plain": [
       "       trips_in_first_30_days  avg_rating_of_driver   avg_surge   surge_pct  \\\n",
       "count              396.000000            300.000000  396.000000  396.000000   \n",
       "mean                 2.396465              4.614333    1.046338    5.620455   \n",
       "std                  3.717477              0.612818    0.174052   15.404279   \n",
       "min                  0.000000              1.000000    1.000000    0.000000   \n",
       "25%                  1.000000              4.500000    1.000000    0.000000   \n",
       "50%                  1.000000              4.900000    1.000000    0.000000   \n",
       "75%                  2.000000              5.000000    1.000000    0.000000   \n",
       "max                 27.000000              5.000000    3.000000  100.000000   \n",
       "\n",
       "       ultimate_black_user  weekday_pct    avg_dist  avg_rating_by_driver  \n",
       "count           396.000000   396.000000  396.000000            393.000000  \n",
       "mean              0.611111    66.218687    7.225859              4.815522  \n",
       "std               0.488115    36.140061    9.185866              0.382844  \n",
       "min               0.000000     0.000000    0.000000              1.000000  \n",
       "25%               0.000000    50.000000    2.857500              4.800000  \n",
       "50%               1.000000    74.150000    4.465000              5.000000  \n",
       "75%               1.000000   100.000000    8.652500              5.000000  \n",
       "max               1.000000   100.000000  129.890000              5.000000  "
      ]
     },
     "execution_count": 34,
     "metadata": {},
     "output_type": "execute_result"
    }
   ],
   "source": [
    "df[df.phone.isna()].describe()"
   ]
  },
  {
   "cell_type": "code",
   "execution_count": 35,
   "id": "b6b6ee2c",
   "metadata": {},
   "outputs": [
    {
     "data": {
      "text/html": [
       "<div>\n",
       "<style scoped>\n",
       "    .dataframe tbody tr th:only-of-type {\n",
       "        vertical-align: middle;\n",
       "    }\n",
       "\n",
       "    .dataframe tbody tr th {\n",
       "        vertical-align: top;\n",
       "    }\n",
       "\n",
       "    .dataframe thead th {\n",
       "        text-align: right;\n",
       "    }\n",
       "</style>\n",
       "<table border=\"1\" class=\"dataframe\">\n",
       "  <thead>\n",
       "    <tr style=\"text-align: right;\">\n",
       "      <th></th>\n",
       "      <th>trips_in_first_30_days</th>\n",
       "      <th>avg_rating_of_driver</th>\n",
       "      <th>avg_surge</th>\n",
       "      <th>surge_pct</th>\n",
       "      <th>ultimate_black_user</th>\n",
       "      <th>weekday_pct</th>\n",
       "      <th>avg_dist</th>\n",
       "      <th>avg_rating_by_driver</th>\n",
       "    </tr>\n",
       "  </thead>\n",
       "  <tbody>\n",
       "    <tr>\n",
       "      <th>count</th>\n",
       "      <td>49604.000000</td>\n",
       "      <td>41578.000000</td>\n",
       "      <td>49604.000000</td>\n",
       "      <td>49604.000000</td>\n",
       "      <td>49604.000000</td>\n",
       "      <td>49604.000000</td>\n",
       "      <td>49604.000000</td>\n",
       "      <td>49406.000000</td>\n",
       "    </tr>\n",
       "    <tr>\n",
       "      <th>mean</th>\n",
       "      <td>2.277256</td>\n",
       "      <td>4.601467</td>\n",
       "      <td>1.074991</td>\n",
       "      <td>8.875314</td>\n",
       "      <td>0.375212</td>\n",
       "      <td>60.883832</td>\n",
       "      <td>5.785418</td>\n",
       "      <td>4.777861</td>\n",
       "    </tr>\n",
       "    <tr>\n",
       "      <th>std</th>\n",
       "      <td>3.793300</td>\n",
       "      <td>0.617377</td>\n",
       "      <td>0.222666</td>\n",
       "      <td>19.989018</td>\n",
       "      <td>0.484182</td>\n",
       "      <td>37.086239</td>\n",
       "      <td>5.669709</td>\n",
       "      <td>0.447114</td>\n",
       "    </tr>\n",
       "    <tr>\n",
       "      <th>min</th>\n",
       "      <td>0.000000</td>\n",
       "      <td>1.000000</td>\n",
       "      <td>1.000000</td>\n",
       "      <td>0.000000</td>\n",
       "      <td>0.000000</td>\n",
       "      <td>0.000000</td>\n",
       "      <td>0.000000</td>\n",
       "      <td>1.000000</td>\n",
       "    </tr>\n",
       "    <tr>\n",
       "      <th>25%</th>\n",
       "      <td>0.000000</td>\n",
       "      <td>4.300000</td>\n",
       "      <td>1.000000</td>\n",
       "      <td>0.000000</td>\n",
       "      <td>0.000000</td>\n",
       "      <td>33.300000</td>\n",
       "      <td>2.420000</td>\n",
       "      <td>4.700000</td>\n",
       "    </tr>\n",
       "    <tr>\n",
       "      <th>50%</th>\n",
       "      <td>1.000000</td>\n",
       "      <td>4.900000</td>\n",
       "      <td>1.000000</td>\n",
       "      <td>0.000000</td>\n",
       "      <td>0.000000</td>\n",
       "      <td>66.700000</td>\n",
       "      <td>3.880000</td>\n",
       "      <td>5.000000</td>\n",
       "    </tr>\n",
       "    <tr>\n",
       "      <th>75%</th>\n",
       "      <td>3.000000</td>\n",
       "      <td>5.000000</td>\n",
       "      <td>1.050000</td>\n",
       "      <td>8.700000</td>\n",
       "      <td>1.000000</td>\n",
       "      <td>100.000000</td>\n",
       "      <td>6.930000</td>\n",
       "      <td>5.000000</td>\n",
       "    </tr>\n",
       "    <tr>\n",
       "      <th>max</th>\n",
       "      <td>125.000000</td>\n",
       "      <td>5.000000</td>\n",
       "      <td>8.000000</td>\n",
       "      <td>100.000000</td>\n",
       "      <td>1.000000</td>\n",
       "      <td>100.000000</td>\n",
       "      <td>160.960000</td>\n",
       "      <td>5.000000</td>\n",
       "    </tr>\n",
       "  </tbody>\n",
       "</table>\n",
       "</div>"
      ],
      "text/plain": [
       "       trips_in_first_30_days  avg_rating_of_driver     avg_surge  \\\n",
       "count            49604.000000          41578.000000  49604.000000   \n",
       "mean                 2.277256              4.601467      1.074991   \n",
       "std                  3.793300              0.617377      0.222666   \n",
       "min                  0.000000              1.000000      1.000000   \n",
       "25%                  0.000000              4.300000      1.000000   \n",
       "50%                  1.000000              4.900000      1.000000   \n",
       "75%                  3.000000              5.000000      1.050000   \n",
       "max                125.000000              5.000000      8.000000   \n",
       "\n",
       "          surge_pct  ultimate_black_user   weekday_pct      avg_dist  \\\n",
       "count  49604.000000         49604.000000  49604.000000  49604.000000   \n",
       "mean       8.875314             0.375212     60.883832      5.785418   \n",
       "std       19.989018             0.484182     37.086239      5.669709   \n",
       "min        0.000000             0.000000      0.000000      0.000000   \n",
       "25%        0.000000             0.000000     33.300000      2.420000   \n",
       "50%        0.000000             0.000000     66.700000      3.880000   \n",
       "75%        8.700000             1.000000    100.000000      6.930000   \n",
       "max      100.000000             1.000000    100.000000    160.960000   \n",
       "\n",
       "       avg_rating_by_driver  \n",
       "count          49406.000000  \n",
       "mean               4.777861  \n",
       "std                0.447114  \n",
       "min                1.000000  \n",
       "25%                4.700000  \n",
       "50%                5.000000  \n",
       "75%                5.000000  \n",
       "max                5.000000  "
      ]
     },
     "execution_count": 35,
     "metadata": {},
     "output_type": "execute_result"
    }
   ],
   "source": [
    "df[df.phone.notna()].describe()"
   ]
  },
  {
   "cell_type": "markdown",
   "id": "c6b13f80",
   "metadata": {},
   "source": [
    "### Imputation"
   ]
  },
  {
   "cell_type": "markdown",
   "id": "eea4c336",
   "metadata": {},
   "source": [
    "We impute the \"Missing\" value in the phone column now. The other features will be imputed after the train-test split has been made so that the imputation uses only the mean of the training data."
   ]
  },
  {
   "cell_type": "code",
   "execution_count": 36,
   "id": "673eaca2",
   "metadata": {},
   "outputs": [],
   "source": [
    "df['phone'].fillna(value='Missing', inplace=True)"
   ]
  },
  {
   "cell_type": "code",
   "execution_count": 37,
   "id": "eceb2ed6",
   "metadata": {},
   "outputs": [
    {
     "name": "stdout",
     "output_type": "stream",
     "text": [
      "<class 'pandas.core.frame.DataFrame'>\n",
      "RangeIndex: 50000 entries, 0 to 49999\n",
      "Data columns (total 12 columns):\n",
      " #   Column                  Non-Null Count  Dtype         \n",
      "---  ------                  --------------  -----         \n",
      " 0   city                    50000 non-null  object        \n",
      " 1   trips_in_first_30_days  50000 non-null  int64         \n",
      " 2   signup_date             50000 non-null  datetime64[ns]\n",
      " 3   avg_rating_of_driver    41878 non-null  float64       \n",
      " 4   avg_surge               50000 non-null  float64       \n",
      " 5   last_trip_date          50000 non-null  datetime64[ns]\n",
      " 6   phone                   50000 non-null  object        \n",
      " 7   surge_pct               50000 non-null  float64       \n",
      " 8   ultimate_black_user     50000 non-null  int32         \n",
      " 9   weekday_pct             50000 non-null  float64       \n",
      " 10  avg_dist                50000 non-null  float64       \n",
      " 11  avg_rating_by_driver    49799 non-null  float64       \n",
      "dtypes: datetime64[ns](2), float64(6), int32(1), int64(1), object(2)\n",
      "memory usage: 4.4+ MB\n"
     ]
    }
   ],
   "source": [
    "df.info()"
   ]
  },
  {
   "cell_type": "markdown",
   "id": "875a4cfb",
   "metadata": {},
   "source": [
    "### Determination of Retained Users"
   ]
  },
  {
   "cell_type": "markdown",
   "id": "7afe3218",
   "metadata": {},
   "source": [
    "All users in this table signed up in January 2014. The most recent trip taken by any user was July 1st, 2014. The definition of \"retained\" requires a user to have taken a trip in the last 30 days. For the purposes of this definition, we will consider the current date to be the same as the most recent trip seen."
   ]
  },
  {
   "cell_type": "code",
   "execution_count": 38,
   "id": "19b0dccf",
   "metadata": {},
   "outputs": [
    {
     "name": "stdout",
     "output_type": "stream",
     "text": [
      "Earliest signup date: 2014-01-01 00:00:00\n",
      "Latest signup date: 2014-01-31 00:00:00\n",
      "Latest trip date: 2014-07-01 00:00:00\n"
     ]
    }
   ],
   "source": [
    "print(f\"Earliest signup date: {df.signup_date.min()}\")\n",
    "print(f\"Latest signup date: {df.signup_date.max()}\")\n",
    "print(f\"Latest trip date: {df.last_trip_date.max()}\")"
   ]
  },
  {
   "cell_type": "code",
   "execution_count": 39,
   "id": "7ec7cd10",
   "metadata": {},
   "outputs": [],
   "source": [
    "df['is_retained'] = df.last_trip_date > df.last_trip_date.max() - pd.Timedelta(value=30, unit='days')\n",
    "df['is_retained'] = df['is_retained'].astype(int)"
   ]
  },
  {
   "cell_type": "code",
   "execution_count": 40,
   "id": "bb2aef39",
   "metadata": {},
   "outputs": [
    {
     "name": "stdout",
     "output_type": "stream",
     "text": [
      "<class 'pandas.core.frame.DataFrame'>\n",
      "RangeIndex: 50000 entries, 0 to 49999\n",
      "Data columns (total 13 columns):\n",
      " #   Column                  Non-Null Count  Dtype         \n",
      "---  ------                  --------------  -----         \n",
      " 0   city                    50000 non-null  object        \n",
      " 1   trips_in_first_30_days  50000 non-null  int64         \n",
      " 2   signup_date             50000 non-null  datetime64[ns]\n",
      " 3   avg_rating_of_driver    41878 non-null  float64       \n",
      " 4   avg_surge               50000 non-null  float64       \n",
      " 5   last_trip_date          50000 non-null  datetime64[ns]\n",
      " 6   phone                   50000 non-null  object        \n",
      " 7   surge_pct               50000 non-null  float64       \n",
      " 8   ultimate_black_user     50000 non-null  int32         \n",
      " 9   weekday_pct             50000 non-null  float64       \n",
      " 10  avg_dist                50000 non-null  float64       \n",
      " 11  avg_rating_by_driver    49799 non-null  float64       \n",
      " 12  is_retained             50000 non-null  int32         \n",
      "dtypes: datetime64[ns](2), float64(6), int32(2), int64(1), object(2)\n",
      "memory usage: 4.6+ MB\n"
     ]
    }
   ],
   "source": [
    "df.info()"
   ]
  },
  {
   "cell_type": "markdown",
   "id": "46089929",
   "metadata": {},
   "source": [
    "We see that 36.620% of all users in this month were retained."
   ]
  },
  {
   "cell_type": "code",
   "execution_count": 41,
   "id": "3aa51e70",
   "metadata": {},
   "outputs": [
    {
     "data": {
      "text/plain": [
       "count    50000.00000\n",
       "mean         0.36620\n",
       "std          0.48177\n",
       "min          0.00000\n",
       "25%          0.00000\n",
       "50%          0.00000\n",
       "75%          1.00000\n",
       "max          1.00000\n",
       "Name: is_retained, dtype: float64"
      ]
     },
     "execution_count": 41,
     "metadata": {},
     "output_type": "execute_result"
    }
   ],
   "source": [
    "df.is_retained.describe()"
   ]
  },
  {
   "cell_type": "markdown",
   "id": "f4c0d837",
   "metadata": {},
   "source": [
    "### Encoding Categorical Variables"
   ]
  },
  {
   "cell_type": "code",
   "execution_count": 42,
   "id": "3b8bf085",
   "metadata": {},
   "outputs": [],
   "source": [
    "import seaborn as sns"
   ]
  },
  {
   "cell_type": "code",
   "execution_count": 43,
   "id": "0fbe6b31",
   "metadata": {},
   "outputs": [],
   "source": [
    "df = pd.concat(\n",
    "        [df.drop('city',axis=1), pd.get_dummies(df['city'], prefix='city')],\n",
    "         axis=1)\n",
    "df = pd.concat(\n",
    "        [df.drop('phone',axis=1), pd.get_dummies(df['phone'], prefix='phone')],\n",
    "         axis=1)"
   ]
  },
  {
   "cell_type": "code",
   "execution_count": 44,
   "id": "1c824632",
   "metadata": {},
   "outputs": [
    {
     "name": "stdout",
     "output_type": "stream",
     "text": [
      "<class 'pandas.core.frame.DataFrame'>\n",
      "RangeIndex: 50000 entries, 0 to 49999\n",
      "Data columns (total 17 columns):\n",
      " #   Column                  Non-Null Count  Dtype         \n",
      "---  ------                  --------------  -----         \n",
      " 0   trips_in_first_30_days  50000 non-null  int64         \n",
      " 1   signup_date             50000 non-null  datetime64[ns]\n",
      " 2   avg_rating_of_driver    41878 non-null  float64       \n",
      " 3   avg_surge               50000 non-null  float64       \n",
      " 4   last_trip_date          50000 non-null  datetime64[ns]\n",
      " 5   surge_pct               50000 non-null  float64       \n",
      " 6   ultimate_black_user     50000 non-null  int32         \n",
      " 7   weekday_pct             50000 non-null  float64       \n",
      " 8   avg_dist                50000 non-null  float64       \n",
      " 9   avg_rating_by_driver    49799 non-null  float64       \n",
      " 10  is_retained             50000 non-null  int32         \n",
      " 11  city_Astapor            50000 non-null  uint8         \n",
      " 12  city_King's Landing     50000 non-null  uint8         \n",
      " 13  city_Winterfell         50000 non-null  uint8         \n",
      " 14  phone_Android           50000 non-null  uint8         \n",
      " 15  phone_Missing           50000 non-null  uint8         \n",
      " 16  phone_iPhone            50000 non-null  uint8         \n",
      "dtypes: datetime64[ns](2), float64(6), int32(2), int64(1), uint8(6)\n",
      "memory usage: 4.1 MB\n"
     ]
    }
   ],
   "source": [
    "df.info()"
   ]
  },
  {
   "cell_type": "markdown",
   "id": "2a2a6cc4",
   "metadata": {},
   "source": [
    "Before continuing, we should eliminate the signup date and last trip date features. The signup date will not be useful to any models, since we're concerned with retention in the sixth month and all users in the table signed up in the same month. The last trip date fully determines the value of `is_retained`, so we should eliminate that feature or our models will focus on that relationship."
   ]
  },
  {
   "cell_type": "code",
   "execution_count": 45,
   "id": "03144b89",
   "metadata": {},
   "outputs": [],
   "source": [
    "df.drop(['signup_date', 'last_trip_date'], axis=1, inplace=True)"
   ]
  },
  {
   "cell_type": "code",
   "execution_count": 46,
   "id": "7d0e95da",
   "metadata": {},
   "outputs": [
    {
     "name": "stdout",
     "output_type": "stream",
     "text": [
      "<class 'pandas.core.frame.DataFrame'>\n",
      "RangeIndex: 50000 entries, 0 to 49999\n",
      "Data columns (total 15 columns):\n",
      " #   Column                  Non-Null Count  Dtype  \n",
      "---  ------                  --------------  -----  \n",
      " 0   trips_in_first_30_days  50000 non-null  int64  \n",
      " 1   avg_rating_of_driver    41878 non-null  float64\n",
      " 2   avg_surge               50000 non-null  float64\n",
      " 3   surge_pct               50000 non-null  float64\n",
      " 4   ultimate_black_user     50000 non-null  int32  \n",
      " 5   weekday_pct             50000 non-null  float64\n",
      " 6   avg_dist                50000 non-null  float64\n",
      " 7   avg_rating_by_driver    49799 non-null  float64\n",
      " 8   is_retained             50000 non-null  int32  \n",
      " 9   city_Astapor            50000 non-null  uint8  \n",
      " 10  city_King's Landing     50000 non-null  uint8  \n",
      " 11  city_Winterfell         50000 non-null  uint8  \n",
      " 12  phone_Android           50000 non-null  uint8  \n",
      " 13  phone_Missing           50000 non-null  uint8  \n",
      " 14  phone_iPhone            50000 non-null  uint8  \n",
      "dtypes: float64(6), int32(2), int64(1), uint8(6)\n",
      "memory usage: 3.3 MB\n"
     ]
    }
   ],
   "source": [
    "df.info()"
   ]
  },
  {
   "cell_type": "markdown",
   "id": "9544c1c1",
   "metadata": {},
   "source": [
    "### EDA"
   ]
  },
  {
   "cell_type": "markdown",
   "id": "dc78b3bc",
   "metadata": {},
   "source": [
    "Looking at a correlation heatmap, it seems that retention is most correlated with trips in the first 30 days, whether the user is an Ultimate Black user, the city of origin, and the phone type."
   ]
  },
  {
   "cell_type": "code",
   "execution_count": 47,
   "id": "cfd4659d",
   "metadata": {},
   "outputs": [
    {
     "data": {
      "image/png": "[encoded data removed]",
      "text/plain": [
       "<Figure size 864x864 with 2 Axes>"
      ]
     },
     "metadata": {
      "needs_background": "light"
     },
     "output_type": "display_data"
    }
   ],
   "source": [
    "f, ax = plt.subplots(figsize=(12, 12))\n",
    "sns.heatmap(df.corr(), cmap='vlag', vmin=-1, vmax=1, annot=True, center=0, fmt='0.3f',\n",
    "            square=True, linewidths=.5, cbar_kws={\"shrink\": .8}, annot_kws={'rotation': 45});"
   ]
  },
  {
   "cell_type": "markdown",
   "id": "b6960422",
   "metadata": {},
   "source": [
    "Breaking the data down by whether the user was retained finds similar results. Trips in the first 30 days appear to be greater for retained users and more retained users are Ultimate Black users as well. More retained users come from King's Landing while more non-retained users come from Winterfell. Finally, more retained users signed up via iPhone while non-retained users appear more likely to have signed up via Android."
   ]
  },
  {
   "cell_type": "markdown",
   "id": "11177f40",
   "metadata": {},
   "source": [
    "In the future, it seems appropriate to perform statistical tests to determine if the differences observed are significant."
   ]
  },
  {
   "cell_type": "code",
   "execution_count": 48,
   "id": "c15bb0c9",
   "metadata": {},
   "outputs": [
    {
     "data": {
      "text/html": [
       "<div>\n",
       "<style scoped>\n",
       "    .dataframe tbody tr th:only-of-type {\n",
       "        vertical-align: middle;\n",
       "    }\n",
       "\n",
       "    .dataframe tbody tr th {\n",
       "        vertical-align: top;\n",
       "    }\n",
       "\n",
       "    .dataframe thead th {\n",
       "        text-align: right;\n",
       "    }\n",
       "</style>\n",
       "<table border=\"1\" class=\"dataframe\">\n",
       "  <thead>\n",
       "    <tr style=\"text-align: right;\">\n",
       "      <th></th>\n",
       "      <th>trips_in_first_30_days</th>\n",
       "      <th>avg_rating_of_driver</th>\n",
       "      <th>avg_surge</th>\n",
       "      <th>surge_pct</th>\n",
       "      <th>ultimate_black_user</th>\n",
       "      <th>weekday_pct</th>\n",
       "      <th>avg_dist</th>\n",
       "      <th>avg_rating_by_driver</th>\n",
       "      <th>is_retained</th>\n",
       "      <th>city_Astapor</th>\n",
       "      <th>city_King's Landing</th>\n",
       "      <th>city_Winterfell</th>\n",
       "      <th>phone_Android</th>\n",
       "      <th>phone_Missing</th>\n",
       "      <th>phone_iPhone</th>\n",
       "    </tr>\n",
       "  </thead>\n",
       "  <tbody>\n",
       "    <tr>\n",
       "      <th>count</th>\n",
       "      <td>18310.000000</td>\n",
       "      <td>16742.000000</td>\n",
       "      <td>18310.000000</td>\n",
       "      <td>18310.000000</td>\n",
       "      <td>18310.000000</td>\n",
       "      <td>18310.000000</td>\n",
       "      <td>18310.000000</td>\n",
       "      <td>18276.000000</td>\n",
       "      <td>18310.0</td>\n",
       "      <td>18310.000000</td>\n",
       "      <td>18310.000000</td>\n",
       "      <td>18310.000000</td>\n",
       "      <td>18310.000000</td>\n",
       "      <td>18310.000000</td>\n",
       "      <td>18310.000000</td>\n",
       "    </tr>\n",
       "    <tr>\n",
       "      <th>mean</th>\n",
       "      <td>3.349590</td>\n",
       "      <td>4.593364</td>\n",
       "      <td>1.073720</td>\n",
       "      <td>9.128165</td>\n",
       "      <td>0.511141</td>\n",
       "      <td>62.214604</td>\n",
       "      <td>5.118977</td>\n",
       "      <td>4.763121</td>\n",
       "      <td>1.0</td>\n",
       "      <td>0.219661</td>\n",
       "      <td>0.344457</td>\n",
       "      <td>0.435882</td>\n",
       "      <td>0.160677</td>\n",
       "      <td>0.007100</td>\n",
       "      <td>0.832223</td>\n",
       "    </tr>\n",
       "    <tr>\n",
       "      <th>std</th>\n",
       "      <td>5.020615</td>\n",
       "      <td>0.538166</td>\n",
       "      <td>0.163183</td>\n",
       "      <td>15.489344</td>\n",
       "      <td>0.499890</td>\n",
       "      <td>29.068319</td>\n",
       "      <td>4.627946</td>\n",
       "      <td>0.324566</td>\n",
       "      <td>0.0</td>\n",
       "      <td>0.414029</td>\n",
       "      <td>0.475204</td>\n",
       "      <td>0.495885</td>\n",
       "      <td>0.367243</td>\n",
       "      <td>0.083964</td>\n",
       "      <td>0.373678</td>\n",
       "    </tr>\n",
       "    <tr>\n",
       "      <th>min</th>\n",
       "      <td>0.000000</td>\n",
       "      <td>1.000000</td>\n",
       "      <td>1.000000</td>\n",
       "      <td>0.000000</td>\n",
       "      <td>0.000000</td>\n",
       "      <td>0.000000</td>\n",
       "      <td>0.000000</td>\n",
       "      <td>1.000000</td>\n",
       "      <td>1.0</td>\n",
       "      <td>0.000000</td>\n",
       "      <td>0.000000</td>\n",
       "      <td>0.000000</td>\n",
       "      <td>0.000000</td>\n",
       "      <td>0.000000</td>\n",
       "      <td>0.000000</td>\n",
       "    </tr>\n",
       "    <tr>\n",
       "      <th>25%</th>\n",
       "      <td>0.000000</td>\n",
       "      <td>4.300000</td>\n",
       "      <td>1.000000</td>\n",
       "      <td>0.000000</td>\n",
       "      <td>0.000000</td>\n",
       "      <td>45.500000</td>\n",
       "      <td>2.560000</td>\n",
       "      <td>4.700000</td>\n",
       "      <td>1.0</td>\n",
       "      <td>0.000000</td>\n",
       "      <td>0.000000</td>\n",
       "      <td>0.000000</td>\n",
       "      <td>0.000000</td>\n",
       "      <td>0.000000</td>\n",
       "      <td>1.000000</td>\n",
       "    </tr>\n",
       "    <tr>\n",
       "      <th>50%</th>\n",
       "      <td>2.000000</td>\n",
       "      <td>4.800000</td>\n",
       "      <td>1.000000</td>\n",
       "      <td>0.000000</td>\n",
       "      <td>1.000000</td>\n",
       "      <td>65.200000</td>\n",
       "      <td>3.730000</td>\n",
       "      <td>4.800000</td>\n",
       "      <td>1.0</td>\n",
       "      <td>0.000000</td>\n",
       "      <td>0.000000</td>\n",
       "      <td>0.000000</td>\n",
       "      <td>0.000000</td>\n",
       "      <td>0.000000</td>\n",
       "      <td>1.000000</td>\n",
       "    </tr>\n",
       "    <tr>\n",
       "      <th>75%</th>\n",
       "      <td>4.000000</td>\n",
       "      <td>5.000000</td>\n",
       "      <td>1.090000</td>\n",
       "      <td>13.300000</td>\n",
       "      <td>1.000000</td>\n",
       "      <td>85.700000</td>\n",
       "      <td>5.880000</td>\n",
       "      <td>5.000000</td>\n",
       "      <td>1.0</td>\n",
       "      <td>0.000000</td>\n",
       "      <td>1.000000</td>\n",
       "      <td>1.000000</td>\n",
       "      <td>0.000000</td>\n",
       "      <td>0.000000</td>\n",
       "      <td>1.000000</td>\n",
       "    </tr>\n",
       "    <tr>\n",
       "      <th>max</th>\n",
       "      <td>125.000000</td>\n",
       "      <td>5.000000</td>\n",
       "      <td>4.500000</td>\n",
       "      <td>100.000000</td>\n",
       "      <td>1.000000</td>\n",
       "      <td>100.000000</td>\n",
       "      <td>160.960000</td>\n",
       "      <td>5.000000</td>\n",
       "      <td>1.0</td>\n",
       "      <td>1.000000</td>\n",
       "      <td>1.000000</td>\n",
       "      <td>1.000000</td>\n",
       "      <td>1.000000</td>\n",
       "      <td>1.000000</td>\n",
       "      <td>1.000000</td>\n",
       "    </tr>\n",
       "  </tbody>\n",
       "</table>\n",
       "</div>"
      ],
      "text/plain": [
       "       trips_in_first_30_days  avg_rating_of_driver     avg_surge  \\\n",
       "count            18310.000000          16742.000000  18310.000000   \n",
       "mean                 3.349590              4.593364      1.073720   \n",
       "std                  5.020615              0.538166      0.163183   \n",
       "min                  0.000000              1.000000      1.000000   \n",
       "25%                  0.000000              4.300000      1.000000   \n",
       "50%                  2.000000              4.800000      1.000000   \n",
       "75%                  4.000000              5.000000      1.090000   \n",
       "max                125.000000              5.000000      4.500000   \n",
       "\n",
       "          surge_pct  ultimate_black_user   weekday_pct      avg_dist  \\\n",
       "count  18310.000000         18310.000000  18310.000000  18310.000000   \n",
       "mean       9.128165             0.511141     62.214604      5.118977   \n",
       "std       15.489344             0.499890     29.068319      4.627946   \n",
       "min        0.000000             0.000000      0.000000      0.000000   \n",
       "25%        0.000000             0.000000     45.500000      2.560000   \n",
       "50%        0.000000             1.000000     65.200000      3.730000   \n",
       "75%       13.300000             1.000000     85.700000      5.880000   \n",
       "max      100.000000             1.000000    100.000000    160.960000   \n",
       "\n",
       "       avg_rating_by_driver  is_retained  city_Astapor  city_King's Landing  \\\n",
       "count          18276.000000      18310.0  18310.000000         18310.000000   \n",
       "mean               4.763121          1.0      0.219661             0.344457   \n",
       "std                0.324566          0.0      0.414029             0.475204   \n",
       "min                1.000000          1.0      0.000000             0.000000   \n",
       "25%                4.700000          1.0      0.000000             0.000000   \n",
       "50%                4.800000          1.0      0.000000             0.000000   \n",
       "75%                5.000000          1.0      0.000000             1.000000   \n",
       "max                5.000000          1.0      1.000000             1.000000   \n",
       "\n",
       "       city_Winterfell  phone_Android  phone_Missing  phone_iPhone  \n",
       "count     18310.000000   18310.000000   18310.000000  18310.000000  \n",
       "mean          0.435882       0.160677       0.007100      0.832223  \n",
       "std           0.495885       0.367243       0.083964      0.373678  \n",
       "min           0.000000       0.000000       0.000000      0.000000  \n",
       "25%           0.000000       0.000000       0.000000      1.000000  \n",
       "50%           0.000000       0.000000       0.000000      1.000000  \n",
       "75%           1.000000       0.000000       0.000000      1.000000  \n",
       "max           1.000000       1.000000       1.000000      1.000000  "
      ]
     },
     "execution_count": 48,
     "metadata": {},
     "output_type": "execute_result"
    }
   ],
   "source": [
    "df[df.is_retained==1].describe()"
   ]
  },
  {
   "cell_type": "code",
   "execution_count": 49,
   "id": "0cf82d4b",
   "metadata": {},
   "outputs": [
    {
     "data": {
      "text/html": [
       "<div>\n",
       "<style scoped>\n",
       "    .dataframe tbody tr th:only-of-type {\n",
       "        vertical-align: middle;\n",
       "    }\n",
       "\n",
       "    .dataframe tbody tr th {\n",
       "        vertical-align: top;\n",
       "    }\n",
       "\n",
       "    .dataframe thead th {\n",
       "        text-align: right;\n",
       "    }\n",
       "</style>\n",
       "<table border=\"1\" class=\"dataframe\">\n",
       "  <thead>\n",
       "    <tr style=\"text-align: right;\">\n",
       "      <th></th>\n",
       "      <th>trips_in_first_30_days</th>\n",
       "      <th>avg_rating_of_driver</th>\n",
       "      <th>avg_surge</th>\n",
       "      <th>surge_pct</th>\n",
       "      <th>ultimate_black_user</th>\n",
       "      <th>weekday_pct</th>\n",
       "      <th>avg_dist</th>\n",
       "      <th>avg_rating_by_driver</th>\n",
       "      <th>is_retained</th>\n",
       "      <th>city_Astapor</th>\n",
       "      <th>city_King's Landing</th>\n",
       "      <th>city_Winterfell</th>\n",
       "      <th>phone_Android</th>\n",
       "      <th>phone_Missing</th>\n",
       "      <th>phone_iPhone</th>\n",
       "    </tr>\n",
       "  </thead>\n",
       "  <tbody>\n",
       "    <tr>\n",
       "      <th>count</th>\n",
       "      <td>31690.000000</td>\n",
       "      <td>25136.000000</td>\n",
       "      <td>31690.000000</td>\n",
       "      <td>31690.000000</td>\n",
       "      <td>31690.000000</td>\n",
       "      <td>31690.000000</td>\n",
       "      <td>31690.000000</td>\n",
       "      <td>31523.000000</td>\n",
       "      <td>31690.0</td>\n",
       "      <td>31690.000000</td>\n",
       "      <td>31690.000000</td>\n",
       "      <td>31690.000000</td>\n",
       "      <td>31690.000000</td>\n",
       "      <td>31690.000000</td>\n",
       "      <td>31690.000000</td>\n",
       "    </tr>\n",
       "    <tr>\n",
       "      <th>mean</th>\n",
       "      <td>1.659167</td>\n",
       "      <td>4.607018</td>\n",
       "      <td>1.075367</td>\n",
       "      <td>8.688548</td>\n",
       "      <td>0.299621</td>\n",
       "      <td>60.181597</td>\n",
       "      <td>6.188478</td>\n",
       "      <td>4.786876</td>\n",
       "      <td>0.0</td>\n",
       "      <td>0.394825</td>\n",
       "      <td>0.120637</td>\n",
       "      <td>0.484538</td>\n",
       "      <td>0.381193</td>\n",
       "      <td>0.008394</td>\n",
       "      <td>0.610413</td>\n",
       "    </tr>\n",
       "    <tr>\n",
       "      <th>std</th>\n",
       "      <td>2.661903</td>\n",
       "      <td>0.664816</td>\n",
       "      <td>0.250219</td>\n",
       "      <td>22.132211</td>\n",
       "      <td>0.458099</td>\n",
       "      <td>40.985698</td>\n",
       "      <td>6.213027</td>\n",
       "      <td>0.503869</td>\n",
       "      <td>0.0</td>\n",
       "      <td>0.488821</td>\n",
       "      <td>0.325711</td>\n",
       "      <td>0.499769</td>\n",
       "      <td>0.485687</td>\n",
       "      <td>0.091234</td>\n",
       "      <td>0.487664</td>\n",
       "    </tr>\n",
       "    <tr>\n",
       "      <th>min</th>\n",
       "      <td>0.000000</td>\n",
       "      <td>1.000000</td>\n",
       "      <td>1.000000</td>\n",
       "      <td>0.000000</td>\n",
       "      <td>0.000000</td>\n",
       "      <td>0.000000</td>\n",
       "      <td>0.000000</td>\n",
       "      <td>1.000000</td>\n",
       "      <td>0.0</td>\n",
       "      <td>0.000000</td>\n",
       "      <td>0.000000</td>\n",
       "      <td>0.000000</td>\n",
       "      <td>0.000000</td>\n",
       "      <td>0.000000</td>\n",
       "      <td>0.000000</td>\n",
       "    </tr>\n",
       "    <tr>\n",
       "      <th>25%</th>\n",
       "      <td>0.000000</td>\n",
       "      <td>4.400000</td>\n",
       "      <td>1.000000</td>\n",
       "      <td>0.000000</td>\n",
       "      <td>0.000000</td>\n",
       "      <td>16.700000</td>\n",
       "      <td>2.320000</td>\n",
       "      <td>4.800000</td>\n",
       "      <td>0.0</td>\n",
       "      <td>0.000000</td>\n",
       "      <td>0.000000</td>\n",
       "      <td>0.000000</td>\n",
       "      <td>0.000000</td>\n",
       "      <td>0.000000</td>\n",
       "      <td>0.000000</td>\n",
       "    </tr>\n",
       "    <tr>\n",
       "      <th>50%</th>\n",
       "      <td>1.000000</td>\n",
       "      <td>5.000000</td>\n",
       "      <td>1.000000</td>\n",
       "      <td>0.000000</td>\n",
       "      <td>0.000000</td>\n",
       "      <td>66.700000</td>\n",
       "      <td>4.030000</td>\n",
       "      <td>5.000000</td>\n",
       "      <td>0.0</td>\n",
       "      <td>0.000000</td>\n",
       "      <td>0.000000</td>\n",
       "      <td>0.000000</td>\n",
       "      <td>0.000000</td>\n",
       "      <td>0.000000</td>\n",
       "      <td>1.000000</td>\n",
       "    </tr>\n",
       "    <tr>\n",
       "      <th>75%</th>\n",
       "      <td>2.000000</td>\n",
       "      <td>5.000000</td>\n",
       "      <td>1.000000</td>\n",
       "      <td>0.000000</td>\n",
       "      <td>1.000000</td>\n",
       "      <td>100.000000</td>\n",
       "      <td>7.770000</td>\n",
       "      <td>5.000000</td>\n",
       "      <td>0.0</td>\n",
       "      <td>1.000000</td>\n",
       "      <td>0.000000</td>\n",
       "      <td>1.000000</td>\n",
       "      <td>1.000000</td>\n",
       "      <td>0.000000</td>\n",
       "      <td>1.000000</td>\n",
       "    </tr>\n",
       "    <tr>\n",
       "      <th>max</th>\n",
       "      <td>73.000000</td>\n",
       "      <td>5.000000</td>\n",
       "      <td>8.000000</td>\n",
       "      <td>100.000000</td>\n",
       "      <td>1.000000</td>\n",
       "      <td>100.000000</td>\n",
       "      <td>129.890000</td>\n",
       "      <td>5.000000</td>\n",
       "      <td>0.0</td>\n",
       "      <td>1.000000</td>\n",
       "      <td>1.000000</td>\n",
       "      <td>1.000000</td>\n",
       "      <td>1.000000</td>\n",
       "      <td>1.000000</td>\n",
       "      <td>1.000000</td>\n",
       "    </tr>\n",
       "  </tbody>\n",
       "</table>\n",
       "</div>"
      ],
      "text/plain": [
       "       trips_in_first_30_days  avg_rating_of_driver     avg_surge  \\\n",
       "count            31690.000000          25136.000000  31690.000000   \n",
       "mean                 1.659167              4.607018      1.075367   \n",
       "std                  2.661903              0.664816      0.250219   \n",
       "min                  0.000000              1.000000      1.000000   \n",
       "25%                  0.000000              4.400000      1.000000   \n",
       "50%                  1.000000              5.000000      1.000000   \n",
       "75%                  2.000000              5.000000      1.000000   \n",
       "max                 73.000000              5.000000      8.000000   \n",
       "\n",
       "          surge_pct  ultimate_black_user   weekday_pct      avg_dist  \\\n",
       "count  31690.000000         31690.000000  31690.000000  31690.000000   \n",
       "mean       8.688548             0.299621     60.181597      6.188478   \n",
       "std       22.132211             0.458099     40.985698      6.213027   \n",
       "min        0.000000             0.000000      0.000000      0.000000   \n",
       "25%        0.000000             0.000000     16.700000      2.320000   \n",
       "50%        0.000000             0.000000     66.700000      4.030000   \n",
       "75%        0.000000             1.000000    100.000000      7.770000   \n",
       "max      100.000000             1.000000    100.000000    129.890000   \n",
       "\n",
       "       avg_rating_by_driver  is_retained  city_Astapor  city_King's Landing  \\\n",
       "count          31523.000000      31690.0  31690.000000         31690.000000   \n",
       "mean               4.786876          0.0      0.394825             0.120637   \n",
       "std                0.503869          0.0      0.488821             0.325711   \n",
       "min                1.000000          0.0      0.000000             0.000000   \n",
       "25%                4.800000          0.0      0.000000             0.000000   \n",
       "50%                5.000000          0.0      0.000000             0.000000   \n",
       "75%                5.000000          0.0      1.000000             0.000000   \n",
       "max                5.000000          0.0      1.000000             1.000000   \n",
       "\n",
       "       city_Winterfell  phone_Android  phone_Missing  phone_iPhone  \n",
       "count     31690.000000   31690.000000   31690.000000  31690.000000  \n",
       "mean          0.484538       0.381193       0.008394      0.610413  \n",
       "std           0.499769       0.485687       0.091234      0.487664  \n",
       "min           0.000000       0.000000       0.000000      0.000000  \n",
       "25%           0.000000       0.000000       0.000000      0.000000  \n",
       "50%           0.000000       0.000000       0.000000      1.000000  \n",
       "75%           1.000000       1.000000       0.000000      1.000000  \n",
       "max           1.000000       1.000000       1.000000      1.000000  "
      ]
     },
     "execution_count": 49,
     "metadata": {},
     "output_type": "execute_result"
    }
   ],
   "source": [
    "df[df.is_retained==0].describe()"
   ]
  },
  {
   "cell_type": "markdown",
   "id": "94aa26f3",
   "metadata": {},
   "source": [
    "<b>Summary:</b> <b>2.</b> There is some ambiguity corresponding to the definition of \"retained\" as it pertains to this part of the question. The question asks about retention in the sixth month. We will assume that the sixth month is the month of June for all users initially signing up in January. This allows us to use the `is_retained` field as calculated above.\n",
    "\n",
    "We compare several classifier models (logistic regression, random forest, support vector classifier, histogram gradient boosting, ridge regression, naive Bayes, and K-nearest neighbor) on four metrics (accuracy, F1 score, precision, and recall). Histogram gradient boosting was chosen over the usual gradient boosting because of the size of the data set.\n",
    "\n",
    "For each of the four metrics, we found that histogram gradient boosting provided the best performance. We selected that model to use for cross-validation hyperparameter tuning. A grid search led to small improvements.\n",
    "\n",
    "We were able to get the accuracy near 0.8, but it may be possible to improve it further. An ensemble approach might be of assistance."
   ]
  },
  {
   "cell_type": "code",
   "execution_count": 50,
   "id": "be29c7d9",
   "metadata": {},
   "outputs": [],
   "source": [
    "from sklearn.model_selection import train_test_split"
   ]
  },
  {
   "cell_type": "code",
   "execution_count": 51,
   "id": "7fb95037",
   "metadata": {},
   "outputs": [],
   "source": [
    "X = df.drop('is_retained', axis=1)\n",
    "y = df['is_retained']\n",
    "TEST_SIZE = 0.20\n",
    "RANDOM_STATE = 42\n",
    "X_train, X_test, y_train, y_test = train_test_split(X, y, test_size=TEST_SIZE, random_state=RANDOM_STATE)"
   ]
  },
  {
   "cell_type": "code",
   "execution_count": 52,
   "id": "936a731c",
   "metadata": {},
   "outputs": [],
   "source": [
    "from sklearn import metrics"
   ]
  },
  {
   "cell_type": "code",
   "execution_count": 53,
   "id": "b94b8f98",
   "metadata": {},
   "outputs": [],
   "source": [
    "scores = {}\n",
    "def score_classifier(name, y_true, y_pred):\n",
    "    scores_acc = scores['acc'] if 'acc' in scores.keys() else {}\n",
    "    scores_acc[name] = metrics.accuracy_score(y_true, y_pred)\n",
    "    scores['acc'] = scores_acc\n",
    "    \n",
    "    scores_f1 = scores['f1'] if 'f1' in scores.keys() else {}\n",
    "    scores_f1[name] = metrics.f1_score(y_true, y_pred)\n",
    "    scores['f1'] = scores_f1\n",
    "    \n",
    "    scores_prec = scores['prec'] if 'prec' in scores.keys() else {}\n",
    "    scores_prec[name] = metrics.precision_score(y_true, y_pred, zero_division=0)\n",
    "    scores['prec'] = scores_prec\n",
    "    \n",
    "    scores_rec = scores['rec'] if 'rec' in scores.keys() else {}\n",
    "    scores_rec[name] = metrics.recall_score(y_true, y_pred)\n",
    "    scores['rec'] = scores_rec"
   ]
  },
  {
   "cell_type": "code",
   "execution_count": 54,
   "id": "99f7b741",
   "metadata": {},
   "outputs": [],
   "source": [
    "def train_and_score_classifier(name, clf):\n",
    "    clf.fit(X_train, y_train)\n",
    "    y_pred = clf.predict(X_test)\n",
    "    score_classifier(name, y_test, y_pred)"
   ]
  },
  {
   "cell_type": "code",
   "execution_count": 55,
   "id": "22e1b1fe",
   "metadata": {},
   "outputs": [],
   "source": [
    "def print_classifier_scores(name):\n",
    "    print(f'Accuracy: {scores[\"acc\"][name]:0.4f}')\n",
    "    print(f'F1: {scores[\"f1\"][name]:0.4f}')\n",
    "    print(f'Precision: {scores[\"prec\"][name]:0.4f}')\n",
    "    print(f'Recall: {scores[\"rec\"][name]:0.4f}')"
   ]
  },
  {
   "cell_type": "markdown",
   "id": "f43e6209",
   "metadata": {},
   "source": [
    "### Baseline Classifiers"
   ]
  },
  {
   "cell_type": "code",
   "execution_count": 56,
   "id": "2b3c315a",
   "metadata": {},
   "outputs": [],
   "source": [
    "from sklearn.pipeline import make_pipeline\n",
    "from sklearn.preprocessing import StandardScaler\n",
    "from sklearn.impute import SimpleImputer\n",
    "import numpy as np"
   ]
  },
  {
   "cell_type": "code",
   "execution_count": 57,
   "id": "6837bc8e",
   "metadata": {},
   "outputs": [],
   "source": [
    "from sklearn.dummy import DummyClassifier"
   ]
  },
  {
   "cell_type": "code",
   "execution_count": 58,
   "id": "6ba9a49b",
   "metadata": {},
   "outputs": [],
   "source": [
    "dummy_freq = make_pipeline(\n",
    "    SimpleImputer(missing_values=np.nan, strategy='mean'), \n",
    "    StandardScaler(), \n",
    "    DummyClassifier(strategy=\"most_frequent\")\n",
    ")"
   ]
  },
  {
   "cell_type": "code",
   "execution_count": 59,
   "id": "d721bc1a",
   "metadata": {},
   "outputs": [
    {
     "name": "stdout",
     "output_type": "stream",
     "text": [
      "Accuracy: 0.6322\n",
      "F1: 0.0000\n",
      "Precision: 0.0000\n",
      "Recall: 0.0000\n"
     ]
    }
   ],
   "source": [
    "train_and_score_classifier('dummy_freq', dummy_freq)\n",
    "print_classifier_scores('dummy_freq')"
   ]
  },
  {
   "cell_type": "code",
   "execution_count": 60,
   "id": "e3314fa7",
   "metadata": {},
   "outputs": [],
   "source": [
    "dummy_strat = make_pipeline(\n",
    "    SimpleImputer(missing_values=np.nan, strategy='mean'), \n",
    "    StandardScaler(), \n",
    "    DummyClassifier(strategy=\"stratified\", random_state=RANDOM_STATE)\n",
    ")"
   ]
  },
  {
   "cell_type": "code",
   "execution_count": 61,
   "id": "82a15a33",
   "metadata": {},
   "outputs": [
    {
     "name": "stdout",
     "output_type": "stream",
     "text": [
      "Accuracy: 0.5335\n",
      "F1: 0.3550\n",
      "Precision: 0.3612\n",
      "Recall: 0.3491\n"
     ]
    }
   ],
   "source": [
    "train_and_score_classifier('dummy_strat', dummy_strat)\n",
    "print_classifier_scores('dummy_strat')"
   ]
  },
  {
   "cell_type": "markdown",
   "id": "06dded6c",
   "metadata": {},
   "source": [
    "### Logistic Regression Classifier"
   ]
  },
  {
   "cell_type": "markdown",
   "id": "53940f28",
   "metadata": {},
   "source": [
    "The vanilla logistic regression classifier outperforms both baselines on every metric."
   ]
  },
  {
   "cell_type": "code",
   "execution_count": 62,
   "id": "fcfb958a",
   "metadata": {},
   "outputs": [],
   "source": [
    "from sklearn.linear_model import LogisticRegression"
   ]
  },
  {
   "cell_type": "code",
   "execution_count": 63,
   "id": "da3ce0a2",
   "metadata": {},
   "outputs": [],
   "source": [
    "lr = make_pipeline(\n",
    "    SimpleImputer(missing_values=np.nan, strategy='mean'), \n",
    "    StandardScaler(), \n",
    "    LogisticRegression()\n",
    ")"
   ]
  },
  {
   "cell_type": "code",
   "execution_count": 64,
   "id": "8349112a",
   "metadata": {},
   "outputs": [
    {
     "name": "stdout",
     "output_type": "stream",
     "text": [
      "Accuracy: 0.7211\n",
      "F1: 0.5699\n",
      "Precision: 0.6584\n",
      "Recall: 0.5024\n"
     ]
    }
   ],
   "source": [
    "train_and_score_classifier('lr', lr)\n",
    "print_classifier_scores('lr')"
   ]
  },
  {
   "cell_type": "markdown",
   "id": "1e1c8652",
   "metadata": {},
   "source": [
    "### Random Forest Classifier"
   ]
  },
  {
   "cell_type": "markdown",
   "id": "0f7d46c5",
   "metadata": {},
   "source": [
    "The random forest presents an improvement on the logistic regression classifier."
   ]
  },
  {
   "cell_type": "code",
   "execution_count": 65,
   "id": "ba0e8a9b",
   "metadata": {},
   "outputs": [],
   "source": [
    "from sklearn.ensemble import RandomForestClassifier"
   ]
  },
  {
   "cell_type": "code",
   "execution_count": 66,
   "id": "83af9032",
   "metadata": {},
   "outputs": [],
   "source": [
    "rf = make_pipeline(\n",
    "    SimpleImputer(missing_values=np.nan, strategy='mean'), \n",
    "    StandardScaler(), \n",
    "    RandomForestClassifier(random_state=RANDOM_STATE)\n",
    ")"
   ]
  },
  {
   "cell_type": "code",
   "execution_count": 67,
   "id": "83b5ebe4",
   "metadata": {},
   "outputs": [
    {
     "name": "stdout",
     "output_type": "stream",
     "text": [
      "Accuracy: 0.7606\n",
      "F1: 0.6697\n",
      "Precision: 0.6798\n",
      "Recall: 0.6599\n"
     ]
    }
   ],
   "source": [
    "train_and_score_classifier('rf', rf)\n",
    "print_classifier_scores('rf')"
   ]
  },
  {
   "cell_type": "markdown",
   "id": "d126f2fc",
   "metadata": {},
   "source": [
    "### Support Vector Classifier"
   ]
  },
  {
   "cell_type": "code",
   "execution_count": 68,
   "id": "2d9d1de4",
   "metadata": {},
   "outputs": [],
   "source": [
    "from sklearn.svm import LinearSVC"
   ]
  },
  {
   "cell_type": "code",
   "execution_count": 69,
   "id": "9eeea19c",
   "metadata": {},
   "outputs": [],
   "source": [
    "svc = make_pipeline(\n",
    "    SimpleImputer(missing_values=np.nan, strategy='mean'), \n",
    "    StandardScaler(), \n",
    "    LinearSVC(dual=False)\n",
    ")"
   ]
  },
  {
   "cell_type": "code",
   "execution_count": 70,
   "id": "33b924e5",
   "metadata": {},
   "outputs": [
    {
     "name": "stdout",
     "output_type": "stream",
     "text": [
      "Accuracy: 0.7214\n",
      "F1: 0.5603\n",
      "Precision: 0.6678\n",
      "Recall: 0.4826\n"
     ]
    }
   ],
   "source": [
    "train_and_score_classifier('svc', svc)\n",
    "print_classifier_scores('svc')"
   ]
  },
  {
   "cell_type": "markdown",
   "id": "3a5a6155",
   "metadata": {},
   "source": [
    "### Gradient Boosting"
   ]
  },
  {
   "cell_type": "markdown",
   "id": "e1f4c1e7",
   "metadata": {},
   "source": [
    "Gradient boosting appears to be the best yet."
   ]
  },
  {
   "cell_type": "code",
   "execution_count": 71,
   "id": "1fa17e9e",
   "metadata": {},
   "outputs": [],
   "source": [
    "from sklearn.experimental import enable_hist_gradient_boosting\n",
    "from sklearn.ensemble import HistGradientBoostingClassifier"
   ]
  },
  {
   "cell_type": "code",
   "execution_count": 72,
   "id": "7510e48a",
   "metadata": {},
   "outputs": [],
   "source": [
    "hgb = make_pipeline(\n",
    "    SimpleImputer(missing_values=np.nan, strategy='mean'), \n",
    "    StandardScaler(), \n",
    "    HistGradientBoostingClassifier(random_state=RANDOM_STATE)\n",
    ")"
   ]
  },
  {
   "cell_type": "code",
   "execution_count": 73,
   "id": "3b05ec0a",
   "metadata": {},
   "outputs": [
    {
     "name": "stdout",
     "output_type": "stream",
     "text": [
      "Accuracy: 0.7950\n",
      "F1: 0.7097\n",
      "Precision: 0.7405\n",
      "Recall: 0.6813\n"
     ]
    }
   ],
   "source": [
    "train_and_score_classifier('hgb', hgb)\n",
    "print_classifier_scores('hgb')"
   ]
  },
  {
   "cell_type": "markdown",
   "id": "2a24c9c9",
   "metadata": {},
   "source": [
    "### Ridge Regression"
   ]
  },
  {
   "cell_type": "code",
   "execution_count": 74,
   "id": "9a51e547",
   "metadata": {},
   "outputs": [],
   "source": [
    "from sklearn.linear_model import RidgeClassifier"
   ]
  },
  {
   "cell_type": "code",
   "execution_count": 75,
   "id": "06949617",
   "metadata": {},
   "outputs": [],
   "source": [
    "ridge = make_pipeline(\n",
    "    SimpleImputer(missing_values=np.nan, strategy='mean'), \n",
    "    StandardScaler(), \n",
    "    RidgeClassifier()\n",
    ")"
   ]
  },
  {
   "cell_type": "code",
   "execution_count": 76,
   "id": "0f80a4ce",
   "metadata": {},
   "outputs": [
    {
     "name": "stdout",
     "output_type": "stream",
     "text": [
      "Accuracy: 0.7205\n",
      "F1: 0.5571\n",
      "Precision: 0.6677\n",
      "Recall: 0.4780\n"
     ]
    }
   ],
   "source": [
    "train_and_score_classifier('ridge', ridge)\n",
    "print_classifier_scores('ridge')"
   ]
  },
  {
   "cell_type": "markdown",
   "id": "cec805d7",
   "metadata": {},
   "source": [
    "### Naive Bayes"
   ]
  },
  {
   "cell_type": "code",
   "execution_count": 77,
   "id": "b9943640",
   "metadata": {},
   "outputs": [],
   "source": [
    "from sklearn.naive_bayes import BernoulliNB"
   ]
  },
  {
   "cell_type": "code",
   "execution_count": 78,
   "id": "c21c830c",
   "metadata": {},
   "outputs": [],
   "source": [
    "nb = make_pipeline(\n",
    "    SimpleImputer(missing_values=np.nan, strategy='mean'), \n",
    "    StandardScaler(), \n",
    "    BernoulliNB()\n",
    ")"
   ]
  },
  {
   "cell_type": "code",
   "execution_count": 79,
   "id": "09666364",
   "metadata": {},
   "outputs": [
    {
     "name": "stdout",
     "output_type": "stream",
     "text": [
      "Accuracy: 0.7268\n",
      "F1: 0.6224\n",
      "Precision: 0.6329\n",
      "Recall: 0.6123\n"
     ]
    }
   ],
   "source": [
    "train_and_score_classifier('nb', nb)\n",
    "print_classifier_scores('nb')"
   ]
  },
  {
   "cell_type": "markdown",
   "id": "550f70fa",
   "metadata": {},
   "source": [
    "### KNN"
   ]
  },
  {
   "cell_type": "code",
   "execution_count": 80,
   "id": "58005ef0",
   "metadata": {},
   "outputs": [],
   "source": [
    "from sklearn.neighbors import KNeighborsClassifier"
   ]
  },
  {
   "cell_type": "code",
   "execution_count": 81,
   "id": "4338cb0b",
   "metadata": {},
   "outputs": [],
   "source": [
    "knn = make_pipeline(\n",
    "    SimpleImputer(missing_values=np.nan, strategy='mean'), \n",
    "    StandardScaler(), \n",
    "    KNeighborsClassifier()\n",
    ")"
   ]
  },
  {
   "cell_type": "code",
   "execution_count": 82,
   "id": "42c7bcfa",
   "metadata": {},
   "outputs": [
    {
     "name": "stdout",
     "output_type": "stream",
     "text": [
      "Accuracy: 0.7450\n",
      "F1: 0.6434\n",
      "Precision: 0.6624\n",
      "Recall: 0.6253\n"
     ]
    }
   ],
   "source": [
    "train_and_score_classifier('knn', knn)\n",
    "print_classifier_scores('knn')"
   ]
  },
  {
   "cell_type": "markdown",
   "id": "153f48ee",
   "metadata": {},
   "source": [
    "### Model Choice"
   ]
  },
  {
   "cell_type": "markdown",
   "id": "f219d6d3",
   "metadata": {},
   "source": [
    "All four metrics indicate that HistGradientBoostingClassifier is the top-performing classifier."
   ]
  },
  {
   "cell_type": "code",
   "execution_count": 83,
   "id": "3005a11f",
   "metadata": {},
   "outputs": [
    {
     "name": "stdout",
     "output_type": "stream",
     "text": [
      "Best Accuracy: hgb\n",
      "Best F1: hgb\n",
      "Best Precision: hgb\n",
      "Best Recall: hgb\n"
     ]
    }
   ],
   "source": [
    "metric_names = ['Accuracy', 'F1', 'Precision', 'Recall']\n",
    "for i, metric in enumerate(['acc', 'f1', 'prec', 'rec']):\n",
    "    print(f'Best {metric_names[i]}: {max(scores[metric], key=scores[metric].get)}')"
   ]
  },
  {
   "cell_type": "markdown",
   "id": "8136a532",
   "metadata": {},
   "source": [
    "### Model Tuning"
   ]
  },
  {
   "cell_type": "markdown",
   "id": "36869395",
   "metadata": {},
   "source": [
    "With cross-validation and a grid search, we can make marginal improvements."
   ]
  },
  {
   "cell_type": "code",
   "execution_count": 84,
   "id": "4fbc9de8",
   "metadata": {},
   "outputs": [],
   "source": [
    "from sklearn.model_selection import GridSearchCV"
   ]
  },
  {
   "cell_type": "code",
   "execution_count": 85,
   "id": "c05e0271",
   "metadata": {},
   "outputs": [],
   "source": [
    "param_grid = {\n",
    " 'histgradientboostingclassifier__max_iter': [100, 500, 1000],\n",
    " 'histgradientboostingclassifier__learning_rate': [0.01, 0.1, 0.5],\n",
    " 'histgradientboostingclassifier__max_depth' : [None, 25],\n",
    " 'histgradientboostingclassifier__l2_regularization': [0, 1.5, 3],\n",
    " }\n",
    "hgb_grid = GridSearchCV(hgb, param_grid, n_jobs=5, cv=5, verbose=3, refit=True)"
   ]
  },
  {
   "cell_type": "code",
   "execution_count": 86,
   "id": "4771fe48",
   "metadata": {},
   "outputs": [
    {
     "name": "stdout",
     "output_type": "stream",
     "text": [
      "Fitting 5 folds for each of 54 candidates, totalling 270 fits\n",
      "Wall time: 2min 33s\n"
     ]
    },
    {
     "data": {
      "text/plain": [
       "GridSearchCV(cv=5,\n",
       "             estimator=Pipeline(steps=[('simpleimputer', SimpleImputer()),\n",
       "                                       ('standardscaler', StandardScaler()),\n",
       "                                       ('histgradientboostingclassifier',\n",
       "                                        HistGradientBoostingClassifier(random_state=42))]),\n",
       "             n_jobs=5,\n",
       "             param_grid={'histgradientboostingclassifier__l2_regularization': [0,\n",
       "                                                                               1.5,\n",
       "                                                                               3],\n",
       "                         'histgradientboostingclassifier__learning_rate': [0.01,\n",
       "                                                                           0.1,\n",
       "                                                                           0.5],\n",
       "                         'histgradientboostingclassifier__max_depth': [None,\n",
       "                                                                       25],\n",
       "                         'histgradientboostingclassifier__max_iter': [100, 500,\n",
       "                                                                      1000]},\n",
       "             verbose=3)"
      ]
     },
     "execution_count": 86,
     "metadata": {},
     "output_type": "execute_result"
    }
   ],
   "source": [
    "%%time\n",
    "hgb_grid.fit(X_train, y_train);"
   ]
  },
  {
   "cell_type": "code",
   "execution_count": 87,
   "id": "37a7883a",
   "metadata": {},
   "outputs": [
    {
     "data": {
      "text/plain": [
       "{'histgradientboostingclassifier__l2_regularization': 1.5,\n",
       " 'histgradientboostingclassifier__learning_rate': 0.1,\n",
       " 'histgradientboostingclassifier__max_depth': None,\n",
       " 'histgradientboostingclassifier__max_iter': 500}"
      ]
     },
     "execution_count": 87,
     "metadata": {},
     "output_type": "execute_result"
    }
   ],
   "source": [
    "hgb_grid.best_params_"
   ]
  },
  {
   "cell_type": "code",
   "execution_count": 88,
   "id": "edd75aae",
   "metadata": {},
   "outputs": [
    {
     "data": {
      "text/plain": [
       "0.7950999999999999"
      ]
     },
     "execution_count": 88,
     "metadata": {},
     "output_type": "execute_result"
    }
   ],
   "source": [
    "hgb_grid.best_score_"
   ]
  },
  {
   "cell_type": "code",
   "execution_count": 89,
   "id": "01b9b054",
   "metadata": {},
   "outputs": [],
   "source": [
    "hgb2 = make_pipeline(\n",
    "    SimpleImputer(missing_values=np.nan, strategy='mean'), \n",
    "    StandardScaler(), \n",
    "    HistGradientBoostingClassifier(random_state=RANDOM_STATE,\n",
    "                                  l2_regularization=1.5,\n",
    "                                  learning_rate=0.1,\n",
    "                                  max_depth=None,\n",
    "                                  max_iter=500)\n",
    ")"
   ]
  },
  {
   "cell_type": "code",
   "execution_count": 90,
   "id": "4ff37280",
   "metadata": {},
   "outputs": [
    {
     "name": "stdout",
     "output_type": "stream",
     "text": [
      "Accuracy: 0.7960\n",
      "F1: 0.7108\n",
      "Precision: 0.7426\n",
      "Recall: 0.6816\n"
     ]
    }
   ],
   "source": [
    "train_and_score_classifier('hgb2', hgb2)\n",
    "print_classifier_scores('hgb2')"
   ]
  },
  {
   "cell_type": "markdown",
   "id": "b0125ed8",
   "metadata": {},
   "source": [
    "<b>Summary: 3.</b> The model obtained in the last section could be used to validate the observations in the first section. In particular, two of the four features that had the largest correlation with retention are items that Ultimate could potentially influence. These are the number of rides in the first thirty days and whether the user is an Ultimate Black user. Further work should be done to determine if there is any causation between rides in the first thirty days and user retention. It could be the case that users who ride a lot in the first thirty days get hooked on the service. Conversely, it might be the case that users who will be retained are more likely to ride. Depending on results, it may be worthwhile for Ultimate to offer promotions for users in their first month. Additionally, Ultimate should promote Ultimate Black membership. The other two features (city and phone type) could allow Ultimate to focus advertising for new members."
   ]
  },
  {
   "cell_type": "code",
   "execution_count": null,
   "id": "de14d12f",
   "metadata": {},
   "outputs": [],
   "source": []
  }
 ],
 "metadata": {
  "kernelspec": {
   "display_name": "Python 3",
   "language": "python",
   "name": "python3"
  },
  "language_info": {
   "codemirror_mode": {
    "name": "ipython",
    "version": 3
   },
   "file_extension": ".py",
   "mimetype": "text/x-python",
   "name": "python",
   "nbconvert_exporter": "python",
   "pygments_lexer": "ipython3",
   "version": "3.9.4"
  }
 },
 "nbformat": 4,
 "nbformat_minor": 5
}
